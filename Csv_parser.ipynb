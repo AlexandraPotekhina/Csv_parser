{
  "nbformat": 4,
  "nbformat_minor": 0,
  "metadata": {
    "colab": {
      "name": "Csv_parser.ipynb",
      "provenance": [],
      "collapsed_sections": []
    },
    "kernelspec": {
      "name": "python3",
      "display_name": "Python 3"
    },
    "language_info": {
      "name": "python"
    },
    "widgets": {
      "application/vnd.jupyter.widget-state+json": {
        "bceb639222e2491ea15730c33f4e508b": {
          "model_module": "@jupyter-widgets/controls",
          "model_name": "HBoxModel",
          "model_module_version": "1.5.0",
          "state": {
            "_dom_classes": [],
            "_model_module": "@jupyter-widgets/controls",
            "_model_module_version": "1.5.0",
            "_model_name": "HBoxModel",
            "_view_count": null,
            "_view_module": "@jupyter-widgets/controls",
            "_view_module_version": "1.5.0",
            "_view_name": "HBoxView",
            "box_style": "",
            "children": [
              "IPY_MODEL_2c6e281d624b44b28ff3ddbdc140c8ec",
              "IPY_MODEL_ca7c4f6a657b46e4912247d601aa0060",
              "IPY_MODEL_a228b95f77aa416484ed0b6e0d3b8769"
            ],
            "layout": "IPY_MODEL_c0978aa1b8624f009a9ee00612f2d9b3"
          }
        },
        "2c6e281d624b44b28ff3ddbdc140c8ec": {
          "model_module": "@jupyter-widgets/controls",
          "model_name": "HTMLModel",
          "model_module_version": "1.5.0",
          "state": {
            "_dom_classes": [],
            "_model_module": "@jupyter-widgets/controls",
            "_model_module_version": "1.5.0",
            "_model_name": "HTMLModel",
            "_view_count": null,
            "_view_module": "@jupyter-widgets/controls",
            "_view_module_version": "1.5.0",
            "_view_name": "HTMLView",
            "description": "",
            "description_tooltip": null,
            "layout": "IPY_MODEL_f4901856b32244fa991117077d1aba82",
            "placeholder": "​",
            "style": "IPY_MODEL_e33bb16f11a842e795c0ff987097905a",
            "value": "Downloading https://raw.githubusercontent.com/stanfordnlp/stanza-resources/main/resources_1.4.0.json: "
          }
        },
        "ca7c4f6a657b46e4912247d601aa0060": {
          "model_module": "@jupyter-widgets/controls",
          "model_name": "FloatProgressModel",
          "model_module_version": "1.5.0",
          "state": {
            "_dom_classes": [],
            "_model_module": "@jupyter-widgets/controls",
            "_model_module_version": "1.5.0",
            "_model_name": "FloatProgressModel",
            "_view_count": null,
            "_view_module": "@jupyter-widgets/controls",
            "_view_module_version": "1.5.0",
            "_view_name": "ProgressView",
            "bar_style": "success",
            "description": "",
            "description_tooltip": null,
            "layout": "IPY_MODEL_f56a2a8753d0433f9757fb7f9b1d669d",
            "max": 25998,
            "min": 0,
            "orientation": "horizontal",
            "style": "IPY_MODEL_a4563cacfb59401ebe602cb045944c53",
            "value": 25998
          }
        },
        "a228b95f77aa416484ed0b6e0d3b8769": {
          "model_module": "@jupyter-widgets/controls",
          "model_name": "HTMLModel",
          "model_module_version": "1.5.0",
          "state": {
            "_dom_classes": [],
            "_model_module": "@jupyter-widgets/controls",
            "_model_module_version": "1.5.0",
            "_model_name": "HTMLModel",
            "_view_count": null,
            "_view_module": "@jupyter-widgets/controls",
            "_view_module_version": "1.5.0",
            "_view_name": "HTMLView",
            "description": "",
            "description_tooltip": null,
            "layout": "IPY_MODEL_07edc8361cce4a3a83ea0a2a15ddd5c7",
            "placeholder": "​",
            "style": "IPY_MODEL_6888fc5a079849739c7b3fa7c0f01051",
            "value": " 154k/? [00:00&lt;00:00, 2.75MB/s]"
          }
        },
        "c0978aa1b8624f009a9ee00612f2d9b3": {
          "model_module": "@jupyter-widgets/base",
          "model_name": "LayoutModel",
          "model_module_version": "1.2.0",
          "state": {
            "_model_module": "@jupyter-widgets/base",
            "_model_module_version": "1.2.0",
            "_model_name": "LayoutModel",
            "_view_count": null,
            "_view_module": "@jupyter-widgets/base",
            "_view_module_version": "1.2.0",
            "_view_name": "LayoutView",
            "align_content": null,
            "align_items": null,
            "align_self": null,
            "border": null,
            "bottom": null,
            "display": null,
            "flex": null,
            "flex_flow": null,
            "grid_area": null,
            "grid_auto_columns": null,
            "grid_auto_flow": null,
            "grid_auto_rows": null,
            "grid_column": null,
            "grid_gap": null,
            "grid_row": null,
            "grid_template_areas": null,
            "grid_template_columns": null,
            "grid_template_rows": null,
            "height": null,
            "justify_content": null,
            "justify_items": null,
            "left": null,
            "margin": null,
            "max_height": null,
            "max_width": null,
            "min_height": null,
            "min_width": null,
            "object_fit": null,
            "object_position": null,
            "order": null,
            "overflow": null,
            "overflow_x": null,
            "overflow_y": null,
            "padding": null,
            "right": null,
            "top": null,
            "visibility": null,
            "width": null
          }
        },
        "f4901856b32244fa991117077d1aba82": {
          "model_module": "@jupyter-widgets/base",
          "model_name": "LayoutModel",
          "model_module_version": "1.2.0",
          "state": {
            "_model_module": "@jupyter-widgets/base",
            "_model_module_version": "1.2.0",
            "_model_name": "LayoutModel",
            "_view_count": null,
            "_view_module": "@jupyter-widgets/base",
            "_view_module_version": "1.2.0",
            "_view_name": "LayoutView",
            "align_content": null,
            "align_items": null,
            "align_self": null,
            "border": null,
            "bottom": null,
            "display": null,
            "flex": null,
            "flex_flow": null,
            "grid_area": null,
            "grid_auto_columns": null,
            "grid_auto_flow": null,
            "grid_auto_rows": null,
            "grid_column": null,
            "grid_gap": null,
            "grid_row": null,
            "grid_template_areas": null,
            "grid_template_columns": null,
            "grid_template_rows": null,
            "height": null,
            "justify_content": null,
            "justify_items": null,
            "left": null,
            "margin": null,
            "max_height": null,
            "max_width": null,
            "min_height": null,
            "min_width": null,
            "object_fit": null,
            "object_position": null,
            "order": null,
            "overflow": null,
            "overflow_x": null,
            "overflow_y": null,
            "padding": null,
            "right": null,
            "top": null,
            "visibility": null,
            "width": null
          }
        },
        "e33bb16f11a842e795c0ff987097905a": {
          "model_module": "@jupyter-widgets/controls",
          "model_name": "DescriptionStyleModel",
          "model_module_version": "1.5.0",
          "state": {
            "_model_module": "@jupyter-widgets/controls",
            "_model_module_version": "1.5.0",
            "_model_name": "DescriptionStyleModel",
            "_view_count": null,
            "_view_module": "@jupyter-widgets/base",
            "_view_module_version": "1.2.0",
            "_view_name": "StyleView",
            "description_width": ""
          }
        },
        "f56a2a8753d0433f9757fb7f9b1d669d": {
          "model_module": "@jupyter-widgets/base",
          "model_name": "LayoutModel",
          "model_module_version": "1.2.0",
          "state": {
            "_model_module": "@jupyter-widgets/base",
            "_model_module_version": "1.2.0",
            "_model_name": "LayoutModel",
            "_view_count": null,
            "_view_module": "@jupyter-widgets/base",
            "_view_module_version": "1.2.0",
            "_view_name": "LayoutView",
            "align_content": null,
            "align_items": null,
            "align_self": null,
            "border": null,
            "bottom": null,
            "display": null,
            "flex": null,
            "flex_flow": null,
            "grid_area": null,
            "grid_auto_columns": null,
            "grid_auto_flow": null,
            "grid_auto_rows": null,
            "grid_column": null,
            "grid_gap": null,
            "grid_row": null,
            "grid_template_areas": null,
            "grid_template_columns": null,
            "grid_template_rows": null,
            "height": null,
            "justify_content": null,
            "justify_items": null,
            "left": null,
            "margin": null,
            "max_height": null,
            "max_width": null,
            "min_height": null,
            "min_width": null,
            "object_fit": null,
            "object_position": null,
            "order": null,
            "overflow": null,
            "overflow_x": null,
            "overflow_y": null,
            "padding": null,
            "right": null,
            "top": null,
            "visibility": null,
            "width": null
          }
        },
        "a4563cacfb59401ebe602cb045944c53": {
          "model_module": "@jupyter-widgets/controls",
          "model_name": "ProgressStyleModel",
          "model_module_version": "1.5.0",
          "state": {
            "_model_module": "@jupyter-widgets/controls",
            "_model_module_version": "1.5.0",
            "_model_name": "ProgressStyleModel",
            "_view_count": null,
            "_view_module": "@jupyter-widgets/base",
            "_view_module_version": "1.2.0",
            "_view_name": "StyleView",
            "bar_color": null,
            "description_width": ""
          }
        },
        "07edc8361cce4a3a83ea0a2a15ddd5c7": {
          "model_module": "@jupyter-widgets/base",
          "model_name": "LayoutModel",
          "model_module_version": "1.2.0",
          "state": {
            "_model_module": "@jupyter-widgets/base",
            "_model_module_version": "1.2.0",
            "_model_name": "LayoutModel",
            "_view_count": null,
            "_view_module": "@jupyter-widgets/base",
            "_view_module_version": "1.2.0",
            "_view_name": "LayoutView",
            "align_content": null,
            "align_items": null,
            "align_self": null,
            "border": null,
            "bottom": null,
            "display": null,
            "flex": null,
            "flex_flow": null,
            "grid_area": null,
            "grid_auto_columns": null,
            "grid_auto_flow": null,
            "grid_auto_rows": null,
            "grid_column": null,
            "grid_gap": null,
            "grid_row": null,
            "grid_template_areas": null,
            "grid_template_columns": null,
            "grid_template_rows": null,
            "height": null,
            "justify_content": null,
            "justify_items": null,
            "left": null,
            "margin": null,
            "max_height": null,
            "max_width": null,
            "min_height": null,
            "min_width": null,
            "object_fit": null,
            "object_position": null,
            "order": null,
            "overflow": null,
            "overflow_x": null,
            "overflow_y": null,
            "padding": null,
            "right": null,
            "top": null,
            "visibility": null,
            "width": null
          }
        },
        "6888fc5a079849739c7b3fa7c0f01051": {
          "model_module": "@jupyter-widgets/controls",
          "model_name": "DescriptionStyleModel",
          "model_module_version": "1.5.0",
          "state": {
            "_model_module": "@jupyter-widgets/controls",
            "_model_module_version": "1.5.0",
            "_model_name": "DescriptionStyleModel",
            "_view_count": null,
            "_view_module": "@jupyter-widgets/base",
            "_view_module_version": "1.2.0",
            "_view_name": "StyleView",
            "description_width": ""
          }
        }
      }
    }
  },
  "cells": [
    {
      "cell_type": "code",
      "execution_count": 1,
      "metadata": {
        "id": "WfAZG-QarPZ8"
      },
      "outputs": [],
      "source": [
        "import pandas as pd\n",
        "import numpy as np\n",
        "import matplotlib.pyplot as plt\n",
        "import seaborn as sns\n",
        "\n",
        "import nltk\n",
        "from nltk.tokenize import word_tokenize, RegexpTokenizer\n",
        "from nltk.corpus import stopwords\n",
        "\n",
        "from nltk.stem.lancaster import LancasterStemmer #model for stemming words\n",
        "stemmer = LancasterStemmer()\n",
        "\n",
        "import gensim\n",
        "import string\n",
        "from gensim import corpora\n",
        "from gensim.corpora.dictionary import Dictionary\n",
        "\n",
        "%matplotlib inline"
      ]
    },
    {
      "cell_type": "code",
      "source": [
        "df = pd.read_csv('/content/test_data.csv')"
      ],
      "metadata": {
        "id": "kvgIpW_2sNU7"
      },
      "execution_count": 2,
      "outputs": []
    },
    {
      "cell_type": "code",
      "source": [
        "#Удалим столбец 'line_n'\n",
        "df = df.drop(columns=['line_n'])"
      ],
      "metadata": {
        "id": "GXYDoBlARhsN"
      },
      "execution_count": 3,
      "outputs": []
    },
    {
      "cell_type": "code",
      "source": [
        "df.head()"
      ],
      "metadata": {
        "colab": {
          "base_uri": "https://localhost:8080/",
          "height": 204
        },
        "id": "NbyKOL3FSHDb",
        "outputId": "597217a6-2148-4bcd-909a-91f1802ec207"
      },
      "execution_count": 4,
      "outputs": [
        {
          "output_type": "execute_result",
          "data": {
            "text/plain": [
              "   dlg_id     role                                               text\n",
              "0       0  manager                                               Алло\n",
              "1       0   client                                  Алло здравствуйте\n",
              "2       0  manager                                        Добрый день\n",
              "3       0   client  Меня зовут ангелина компания диджитал бизнес з...\n",
              "4       0  manager                                                Ага"
            ],
            "text/html": [
              "\n",
              "  <div id=\"df-ae8a7ae3-3e69-4ec5-866a-388bc7229c39\">\n",
              "    <div class=\"colab-df-container\">\n",
              "      <div>\n",
              "<style scoped>\n",
              "    .dataframe tbody tr th:only-of-type {\n",
              "        vertical-align: middle;\n",
              "    }\n",
              "\n",
              "    .dataframe tbody tr th {\n",
              "        vertical-align: top;\n",
              "    }\n",
              "\n",
              "    .dataframe thead th {\n",
              "        text-align: right;\n",
              "    }\n",
              "</style>\n",
              "<table border=\"1\" class=\"dataframe\">\n",
              "  <thead>\n",
              "    <tr style=\"text-align: right;\">\n",
              "      <th></th>\n",
              "      <th>dlg_id</th>\n",
              "      <th>role</th>\n",
              "      <th>text</th>\n",
              "    </tr>\n",
              "  </thead>\n",
              "  <tbody>\n",
              "    <tr>\n",
              "      <th>0</th>\n",
              "      <td>0</td>\n",
              "      <td>manager</td>\n",
              "      <td>Алло</td>\n",
              "    </tr>\n",
              "    <tr>\n",
              "      <th>1</th>\n",
              "      <td>0</td>\n",
              "      <td>client</td>\n",
              "      <td>Алло здравствуйте</td>\n",
              "    </tr>\n",
              "    <tr>\n",
              "      <th>2</th>\n",
              "      <td>0</td>\n",
              "      <td>manager</td>\n",
              "      <td>Добрый день</td>\n",
              "    </tr>\n",
              "    <tr>\n",
              "      <th>3</th>\n",
              "      <td>0</td>\n",
              "      <td>client</td>\n",
              "      <td>Меня зовут ангелина компания диджитал бизнес з...</td>\n",
              "    </tr>\n",
              "    <tr>\n",
              "      <th>4</th>\n",
              "      <td>0</td>\n",
              "      <td>manager</td>\n",
              "      <td>Ага</td>\n",
              "    </tr>\n",
              "  </tbody>\n",
              "</table>\n",
              "</div>\n",
              "      <button class=\"colab-df-convert\" onclick=\"convertToInteractive('df-ae8a7ae3-3e69-4ec5-866a-388bc7229c39')\"\n",
              "              title=\"Convert this dataframe to an interactive table.\"\n",
              "              style=\"display:none;\">\n",
              "        \n",
              "  <svg xmlns=\"http://www.w3.org/2000/svg\" height=\"24px\"viewBox=\"0 0 24 24\"\n",
              "       width=\"24px\">\n",
              "    <path d=\"M0 0h24v24H0V0z\" fill=\"none\"/>\n",
              "    <path d=\"M18.56 5.44l.94 2.06.94-2.06 2.06-.94-2.06-.94-.94-2.06-.94 2.06-2.06.94zm-11 1L8.5 8.5l.94-2.06 2.06-.94-2.06-.94L8.5 2.5l-.94 2.06-2.06.94zm10 10l.94 2.06.94-2.06 2.06-.94-2.06-.94-.94-2.06-.94 2.06-2.06.94z\"/><path d=\"M17.41 7.96l-1.37-1.37c-.4-.4-.92-.59-1.43-.59-.52 0-1.04.2-1.43.59L10.3 9.45l-7.72 7.72c-.78.78-.78 2.05 0 2.83L4 21.41c.39.39.9.59 1.41.59.51 0 1.02-.2 1.41-.59l7.78-7.78 2.81-2.81c.8-.78.8-2.07 0-2.86zM5.41 20L4 18.59l7.72-7.72 1.47 1.35L5.41 20z\"/>\n",
              "  </svg>\n",
              "      </button>\n",
              "      \n",
              "  <style>\n",
              "    .colab-df-container {\n",
              "      display:flex;\n",
              "      flex-wrap:wrap;\n",
              "      gap: 12px;\n",
              "    }\n",
              "\n",
              "    .colab-df-convert {\n",
              "      background-color: #E8F0FE;\n",
              "      border: none;\n",
              "      border-radius: 50%;\n",
              "      cursor: pointer;\n",
              "      display: none;\n",
              "      fill: #1967D2;\n",
              "      height: 32px;\n",
              "      padding: 0 0 0 0;\n",
              "      width: 32px;\n",
              "    }\n",
              "\n",
              "    .colab-df-convert:hover {\n",
              "      background-color: #E2EBFA;\n",
              "      box-shadow: 0px 1px 2px rgba(60, 64, 67, 0.3), 0px 1px 3px 1px rgba(60, 64, 67, 0.15);\n",
              "      fill: #174EA6;\n",
              "    }\n",
              "\n",
              "    [theme=dark] .colab-df-convert {\n",
              "      background-color: #3B4455;\n",
              "      fill: #D2E3FC;\n",
              "    }\n",
              "\n",
              "    [theme=dark] .colab-df-convert:hover {\n",
              "      background-color: #434B5C;\n",
              "      box-shadow: 0px 1px 3px 1px rgba(0, 0, 0, 0.15);\n",
              "      filter: drop-shadow(0px 1px 2px rgba(0, 0, 0, 0.3));\n",
              "      fill: #FFFFFF;\n",
              "    }\n",
              "  </style>\n",
              "\n",
              "      <script>\n",
              "        const buttonEl =\n",
              "          document.querySelector('#df-ae8a7ae3-3e69-4ec5-866a-388bc7229c39 button.colab-df-convert');\n",
              "        buttonEl.style.display =\n",
              "          google.colab.kernel.accessAllowed ? 'block' : 'none';\n",
              "\n",
              "        async function convertToInteractive(key) {\n",
              "          const element = document.querySelector('#df-ae8a7ae3-3e69-4ec5-866a-388bc7229c39');\n",
              "          const dataTable =\n",
              "            await google.colab.kernel.invokeFunction('convertToInteractive',\n",
              "                                                     [key], {});\n",
              "          if (!dataTable) return;\n",
              "\n",
              "          const docLinkHtml = 'Like what you see? Visit the ' +\n",
              "            '<a target=\"_blank\" href=https://colab.research.google.com/notebooks/data_table.ipynb>data table notebook</a>'\n",
              "            + ' to learn more about interactive tables.';\n",
              "          element.innerHTML = '';\n",
              "          dataTable['output_type'] = 'display_data';\n",
              "          await google.colab.output.renderOutput(dataTable, element);\n",
              "          const docLink = document.createElement('div');\n",
              "          docLink.innerHTML = docLinkHtml;\n",
              "          element.appendChild(docLink);\n",
              "        }\n",
              "      </script>\n",
              "    </div>\n",
              "  </div>\n",
              "  "
            ]
          },
          "metadata": {},
          "execution_count": 4
        }
      ]
    },
    {
      "cell_type": "code",
      "source": [
        "#Приведем текст к нижнему регистру, удалим символы и цифры.\n",
        "def text_clean(df):\n",
        "  df['text'] = df['text'].str.lower().replace('ё', 'е')\n",
        "  df['text'] = df['text'].str.replace(r'[0-9]', '')\n",
        "  df['text'] = df['text'].str.replace(r'[^a-zA-Zа-яА-Я1-9]+', ' ')"
      ],
      "metadata": {
        "id": "O5Gbj9By31eh"
      },
      "execution_count": 5,
      "outputs": []
    },
    {
      "cell_type": "code",
      "source": [
        "text_clean(df)"
      ],
      "metadata": {
        "colab": {
          "base_uri": "https://localhost:8080/"
        },
        "id": "fVFUTZK0tjLR",
        "outputId": "c2c84b83-4d7e-4f09-effd-89b7c50eac61"
      },
      "execution_count": 6,
      "outputs": [
        {
          "output_type": "stream",
          "name": "stderr",
          "text": [
            "/usr/local/lib/python3.7/dist-packages/ipykernel_launcher.py:4: FutureWarning: The default value of regex will change from True to False in a future version.\n",
            "  after removing the cwd from sys.path.\n",
            "/usr/local/lib/python3.7/dist-packages/ipykernel_launcher.py:5: FutureWarning: The default value of regex will change from True to False in a future version.\n",
            "  \"\"\"\n"
          ]
        }
      ]
    },
    {
      "cell_type": "code",
      "source": [
        "#Определим токенизатор\n",
        "tokenizer = RegexpTokenizer(r'\\w+')"
      ],
      "metadata": {
        "id": "yedM1WseQ96K"
      },
      "execution_count": 7,
      "outputs": []
    },
    {
      "cell_type": "code",
      "source": [
        "#Создадим новый столбец с токенами\n",
        "df['tokenized_text'] = df['text'].apply(tokenizer.tokenize)\n",
        "df.head()"
      ],
      "metadata": {
        "colab": {
          "base_uri": "https://localhost:8080/",
          "height": 248
        },
        "id": "xaQ9iJzV2g8F",
        "outputId": "bdd1641b-2a0b-4585-f235-08da2ed2bf59"
      },
      "execution_count": 8,
      "outputs": [
        {
          "output_type": "execute_result",
          "data": {
            "text/plain": [
              "   dlg_id     role                                               text  \\\n",
              "0       0  manager                                               алло   \n",
              "1       0   client                                  алло здравствуйте   \n",
              "2       0  manager                                        добрый день   \n",
              "3       0   client  меня зовут ангелина компания диджитал бизнес з...   \n",
              "4       0  manager                                                ага   \n",
              "\n",
              "                                      tokenized_text  \n",
              "0                                             [алло]  \n",
              "1                               [алло, здравствуйте]  \n",
              "2                                     [добрый, день]  \n",
              "3  [меня, зовут, ангелина, компания, диджитал, би...  \n",
              "4                                              [ага]  "
            ],
            "text/html": [
              "\n",
              "  <div id=\"df-075e9b73-b1f1-4eba-a833-cfd058abd7a6\">\n",
              "    <div class=\"colab-df-container\">\n",
              "      <div>\n",
              "<style scoped>\n",
              "    .dataframe tbody tr th:only-of-type {\n",
              "        vertical-align: middle;\n",
              "    }\n",
              "\n",
              "    .dataframe tbody tr th {\n",
              "        vertical-align: top;\n",
              "    }\n",
              "\n",
              "    .dataframe thead th {\n",
              "        text-align: right;\n",
              "    }\n",
              "</style>\n",
              "<table border=\"1\" class=\"dataframe\">\n",
              "  <thead>\n",
              "    <tr style=\"text-align: right;\">\n",
              "      <th></th>\n",
              "      <th>dlg_id</th>\n",
              "      <th>role</th>\n",
              "      <th>text</th>\n",
              "      <th>tokenized_text</th>\n",
              "    </tr>\n",
              "  </thead>\n",
              "  <tbody>\n",
              "    <tr>\n",
              "      <th>0</th>\n",
              "      <td>0</td>\n",
              "      <td>manager</td>\n",
              "      <td>алло</td>\n",
              "      <td>[алло]</td>\n",
              "    </tr>\n",
              "    <tr>\n",
              "      <th>1</th>\n",
              "      <td>0</td>\n",
              "      <td>client</td>\n",
              "      <td>алло здравствуйте</td>\n",
              "      <td>[алло, здравствуйте]</td>\n",
              "    </tr>\n",
              "    <tr>\n",
              "      <th>2</th>\n",
              "      <td>0</td>\n",
              "      <td>manager</td>\n",
              "      <td>добрый день</td>\n",
              "      <td>[добрый, день]</td>\n",
              "    </tr>\n",
              "    <tr>\n",
              "      <th>3</th>\n",
              "      <td>0</td>\n",
              "      <td>client</td>\n",
              "      <td>меня зовут ангелина компания диджитал бизнес з...</td>\n",
              "      <td>[меня, зовут, ангелина, компания, диджитал, би...</td>\n",
              "    </tr>\n",
              "    <tr>\n",
              "      <th>4</th>\n",
              "      <td>0</td>\n",
              "      <td>manager</td>\n",
              "      <td>ага</td>\n",
              "      <td>[ага]</td>\n",
              "    </tr>\n",
              "  </tbody>\n",
              "</table>\n",
              "</div>\n",
              "      <button class=\"colab-df-convert\" onclick=\"convertToInteractive('df-075e9b73-b1f1-4eba-a833-cfd058abd7a6')\"\n",
              "              title=\"Convert this dataframe to an interactive table.\"\n",
              "              style=\"display:none;\">\n",
              "        \n",
              "  <svg xmlns=\"http://www.w3.org/2000/svg\" height=\"24px\"viewBox=\"0 0 24 24\"\n",
              "       width=\"24px\">\n",
              "    <path d=\"M0 0h24v24H0V0z\" fill=\"none\"/>\n",
              "    <path d=\"M18.56 5.44l.94 2.06.94-2.06 2.06-.94-2.06-.94-.94-2.06-.94 2.06-2.06.94zm-11 1L8.5 8.5l.94-2.06 2.06-.94-2.06-.94L8.5 2.5l-.94 2.06-2.06.94zm10 10l.94 2.06.94-2.06 2.06-.94-2.06-.94-.94-2.06-.94 2.06-2.06.94z\"/><path d=\"M17.41 7.96l-1.37-1.37c-.4-.4-.92-.59-1.43-.59-.52 0-1.04.2-1.43.59L10.3 9.45l-7.72 7.72c-.78.78-.78 2.05 0 2.83L4 21.41c.39.39.9.59 1.41.59.51 0 1.02-.2 1.41-.59l7.78-7.78 2.81-2.81c.8-.78.8-2.07 0-2.86zM5.41 20L4 18.59l7.72-7.72 1.47 1.35L5.41 20z\"/>\n",
              "  </svg>\n",
              "      </button>\n",
              "      \n",
              "  <style>\n",
              "    .colab-df-container {\n",
              "      display:flex;\n",
              "      flex-wrap:wrap;\n",
              "      gap: 12px;\n",
              "    }\n",
              "\n",
              "    .colab-df-convert {\n",
              "      background-color: #E8F0FE;\n",
              "      border: none;\n",
              "      border-radius: 50%;\n",
              "      cursor: pointer;\n",
              "      display: none;\n",
              "      fill: #1967D2;\n",
              "      height: 32px;\n",
              "      padding: 0 0 0 0;\n",
              "      width: 32px;\n",
              "    }\n",
              "\n",
              "    .colab-df-convert:hover {\n",
              "      background-color: #E2EBFA;\n",
              "      box-shadow: 0px 1px 2px rgba(60, 64, 67, 0.3), 0px 1px 3px 1px rgba(60, 64, 67, 0.15);\n",
              "      fill: #174EA6;\n",
              "    }\n",
              "\n",
              "    [theme=dark] .colab-df-convert {\n",
              "      background-color: #3B4455;\n",
              "      fill: #D2E3FC;\n",
              "    }\n",
              "\n",
              "    [theme=dark] .colab-df-convert:hover {\n",
              "      background-color: #434B5C;\n",
              "      box-shadow: 0px 1px 3px 1px rgba(0, 0, 0, 0.15);\n",
              "      filter: drop-shadow(0px 1px 2px rgba(0, 0, 0, 0.3));\n",
              "      fill: #FFFFFF;\n",
              "    }\n",
              "  </style>\n",
              "\n",
              "      <script>\n",
              "        const buttonEl =\n",
              "          document.querySelector('#df-075e9b73-b1f1-4eba-a833-cfd058abd7a6 button.colab-df-convert');\n",
              "        buttonEl.style.display =\n",
              "          google.colab.kernel.accessAllowed ? 'block' : 'none';\n",
              "\n",
              "        async function convertToInteractive(key) {\n",
              "          const element = document.querySelector('#df-075e9b73-b1f1-4eba-a833-cfd058abd7a6');\n",
              "          const dataTable =\n",
              "            await google.colab.kernel.invokeFunction('convertToInteractive',\n",
              "                                                     [key], {});\n",
              "          if (!dataTable) return;\n",
              "\n",
              "          const docLinkHtml = 'Like what you see? Visit the ' +\n",
              "            '<a target=\"_blank\" href=https://colab.research.google.com/notebooks/data_table.ipynb>data table notebook</a>'\n",
              "            + ' to learn more about interactive tables.';\n",
              "          element.innerHTML = '';\n",
              "          dataTable['output_type'] = 'display_data';\n",
              "          await google.colab.output.renderOutput(dataTable, element);\n",
              "          const docLink = document.createElement('div');\n",
              "          docLink.innerHTML = docLinkHtml;\n",
              "          element.appendChild(docLink);\n",
              "        }\n",
              "      </script>\n",
              "    </div>\n",
              "  </div>\n",
              "  "
            ]
          },
          "metadata": {},
          "execution_count": 8
        }
      ]
    },
    {
      "cell_type": "code",
      "source": [
        "df.loc[[146]]"
      ],
      "metadata": {
        "colab": {
          "base_uri": "https://localhost:8080/",
          "height": 80
        },
        "id": "cRU19wXr3fGw",
        "outputId": "efd4f928-36a9-4bea-90e2-4400d54584eb"
      },
      "execution_count": 9,
      "outputs": [
        {
          "output_type": "execute_result",
          "data": {
            "text/plain": [
              "     dlg_id    role        text tokenized_text\n",
              "146       1  client   правильно    [правильно]"
            ],
            "text/html": [
              "\n",
              "  <div id=\"df-2d2745ca-b0a7-4c68-aed5-14e50dbb5e27\">\n",
              "    <div class=\"colab-df-container\">\n",
              "      <div>\n",
              "<style scoped>\n",
              "    .dataframe tbody tr th:only-of-type {\n",
              "        vertical-align: middle;\n",
              "    }\n",
              "\n",
              "    .dataframe tbody tr th {\n",
              "        vertical-align: top;\n",
              "    }\n",
              "\n",
              "    .dataframe thead th {\n",
              "        text-align: right;\n",
              "    }\n",
              "</style>\n",
              "<table border=\"1\" class=\"dataframe\">\n",
              "  <thead>\n",
              "    <tr style=\"text-align: right;\">\n",
              "      <th></th>\n",
              "      <th>dlg_id</th>\n",
              "      <th>role</th>\n",
              "      <th>text</th>\n",
              "      <th>tokenized_text</th>\n",
              "    </tr>\n",
              "  </thead>\n",
              "  <tbody>\n",
              "    <tr>\n",
              "      <th>146</th>\n",
              "      <td>1</td>\n",
              "      <td>client</td>\n",
              "      <td>правильно</td>\n",
              "      <td>[правильно]</td>\n",
              "    </tr>\n",
              "  </tbody>\n",
              "</table>\n",
              "</div>\n",
              "      <button class=\"colab-df-convert\" onclick=\"convertToInteractive('df-2d2745ca-b0a7-4c68-aed5-14e50dbb5e27')\"\n",
              "              title=\"Convert this dataframe to an interactive table.\"\n",
              "              style=\"display:none;\">\n",
              "        \n",
              "  <svg xmlns=\"http://www.w3.org/2000/svg\" height=\"24px\"viewBox=\"0 0 24 24\"\n",
              "       width=\"24px\">\n",
              "    <path d=\"M0 0h24v24H0V0z\" fill=\"none\"/>\n",
              "    <path d=\"M18.56 5.44l.94 2.06.94-2.06 2.06-.94-2.06-.94-.94-2.06-.94 2.06-2.06.94zm-11 1L8.5 8.5l.94-2.06 2.06-.94-2.06-.94L8.5 2.5l-.94 2.06-2.06.94zm10 10l.94 2.06.94-2.06 2.06-.94-2.06-.94-.94-2.06-.94 2.06-2.06.94z\"/><path d=\"M17.41 7.96l-1.37-1.37c-.4-.4-.92-.59-1.43-.59-.52 0-1.04.2-1.43.59L10.3 9.45l-7.72 7.72c-.78.78-.78 2.05 0 2.83L4 21.41c.39.39.9.59 1.41.59.51 0 1.02-.2 1.41-.59l7.78-7.78 2.81-2.81c.8-.78.8-2.07 0-2.86zM5.41 20L4 18.59l7.72-7.72 1.47 1.35L5.41 20z\"/>\n",
              "  </svg>\n",
              "      </button>\n",
              "      \n",
              "  <style>\n",
              "    .colab-df-container {\n",
              "      display:flex;\n",
              "      flex-wrap:wrap;\n",
              "      gap: 12px;\n",
              "    }\n",
              "\n",
              "    .colab-df-convert {\n",
              "      background-color: #E8F0FE;\n",
              "      border: none;\n",
              "      border-radius: 50%;\n",
              "      cursor: pointer;\n",
              "      display: none;\n",
              "      fill: #1967D2;\n",
              "      height: 32px;\n",
              "      padding: 0 0 0 0;\n",
              "      width: 32px;\n",
              "    }\n",
              "\n",
              "    .colab-df-convert:hover {\n",
              "      background-color: #E2EBFA;\n",
              "      box-shadow: 0px 1px 2px rgba(60, 64, 67, 0.3), 0px 1px 3px 1px rgba(60, 64, 67, 0.15);\n",
              "      fill: #174EA6;\n",
              "    }\n",
              "\n",
              "    [theme=dark] .colab-df-convert {\n",
              "      background-color: #3B4455;\n",
              "      fill: #D2E3FC;\n",
              "    }\n",
              "\n",
              "    [theme=dark] .colab-df-convert:hover {\n",
              "      background-color: #434B5C;\n",
              "      box-shadow: 0px 1px 3px 1px rgba(0, 0, 0, 0.15);\n",
              "      filter: drop-shadow(0px 1px 2px rgba(0, 0, 0, 0.3));\n",
              "      fill: #FFFFFF;\n",
              "    }\n",
              "  </style>\n",
              "\n",
              "      <script>\n",
              "        const buttonEl =\n",
              "          document.querySelector('#df-2d2745ca-b0a7-4c68-aed5-14e50dbb5e27 button.colab-df-convert');\n",
              "        buttonEl.style.display =\n",
              "          google.colab.kernel.accessAllowed ? 'block' : 'none';\n",
              "\n",
              "        async function convertToInteractive(key) {\n",
              "          const element = document.querySelector('#df-2d2745ca-b0a7-4c68-aed5-14e50dbb5e27');\n",
              "          const dataTable =\n",
              "            await google.colab.kernel.invokeFunction('convertToInteractive',\n",
              "                                                     [key], {});\n",
              "          if (!dataTable) return;\n",
              "\n",
              "          const docLinkHtml = 'Like what you see? Visit the ' +\n",
              "            '<a target=\"_blank\" href=https://colab.research.google.com/notebooks/data_table.ipynb>data table notebook</a>'\n",
              "            + ' to learn more about interactive tables.';\n",
              "          element.innerHTML = '';\n",
              "          dataTable['output_type'] = 'display_data';\n",
              "          await google.colab.output.renderOutput(dataTable, element);\n",
              "          const docLink = document.createElement('div');\n",
              "          docLink.innerHTML = docLinkHtml;\n",
              "          element.appendChild(docLink);\n",
              "        }\n",
              "      </script>\n",
              "    </div>\n",
              "  </div>\n",
              "  "
            ]
          },
          "metadata": {},
          "execution_count": 9
        }
      ]
    },
    {
      "cell_type": "code",
      "source": [
        "#Создадим словарь\n",
        "Vocab = []\n",
        "for i in df.text:\n",
        "  Vocab.append(i)"
      ],
      "metadata": {
        "id": "0LnPLSAV30qc"
      },
      "execution_count": 10,
      "outputs": []
    },
    {
      "cell_type": "code",
      "source": [
        "Vocab = tokenizer.tokenize(str(Vocab))"
      ],
      "metadata": {
        "id": "WeP09v5l_4Rp"
      },
      "execution_count": 11,
      "outputs": []
    },
    {
      "cell_type": "code",
      "source": [
        "print(Vocab)"
      ],
      "metadata": {
        "colab": {
          "base_uri": "https://localhost:8080/"
        },
        "id": "4vj1q91XRSja",
        "outputId": "117ff2b7-df2c-4d53-bf3a-79e67ded8902"
      },
      "execution_count": 12,
      "outputs": [
        {
          "output_type": "stream",
          "name": "stdout",
          "text": [
            "['алло', 'алло', 'здравствуйте', 'добрый', 'день', 'меня', 'зовут', 'ангелина', 'компания', 'диджитал', 'бизнес', 'звоним', 'вам', 'по', 'поводу', 'продления', 'лицензии', 'а', 'мы', 'с', 'серым', 'у', 'вас', 'скоро', 'срок', 'заканчивается', 'ага', 'угу', 'ну', 'возможно', 'вы', 'рассмотрите', 'и', 'другие', 'варианты', 'видите', 'это', 'хорошая', 'практика', 'сравнивать', 'да', 'мы', 'работаем', 'с', 'компанией', 'которая', 'нам', 'подливает', 'поэтому', 'спасибо', 'огромное', 'как', 'как', 'бы', 'уже', 'до', 'этого', 'момента', 'работаем', 'все', 'устраивает', 'у', 'нас', 'сопровождение', 'поэтому', 'угу', 'а', 'на', 'что', 'вы', 'обращаете', 'внимание', 'при', 'выборе', 'как', 'бы', 'нет', 'да', 'на', 'выбор', 'я', 'уже', 'не', 'обращаю', 'внимание', 'я', 'уже', 'дома', 'выбрал', 'что', 'для', 'вас', 'приоритет', 'поэтому', 'типа', 'много', 'параметров', 'выбор', 'не', 'выбор', 'есть', 'история', 'сотрудничества', 'которая', 'более', 'важна', 'потому', 'что', 'вот', 'смотрите', 'вы', 'же', 'мне', 'раз', 'звоните', 'а', 'работаем', 'мы', 'там', 'а', 'уже', 'давно', 'а', 'почему', 'звоните', 'только', 'сейчас', 'а', 'не', 'в', 'течении', 'своего', 'времени', 'когда', 'работают', 'ну', 'у', 'вас', 'срок', 'заканчивается', 'поэтому', 'мы', 'набрали', 'ко', 'всему', 'совершенно', 'верно', 'да', 'и', 'вот', 'так', 'вот', 'делает', 'еще', 'компаний', 'которые', 'звонят', 'и', 'спрашивают', 'продвигают', 'продлевать', 'ну', 'вот', 'я', 'просто', 'каждый', 'раз', 'удивляюсь', 'почему', 'нельзя', 'позвонить', 'во', 'время', 'когда', 'хирам', 'работает', 'вот', 'если', 'вы', 'хотите', 'меня', 'заполучить', 'а', 'в', 'следующий', 'раз', 'как', 'клиента', 'сделайте', 'мне', 'звонка', 'в', 'следующий', 'период', 'и', 'спросите', 'может', 'быть', 'проведите', 'аудист', 'нет', 'сделайте', 'что', 'нибудь', 'незначительная', 'но', 'бесплатная', 'и', 'покажите', 'свою', 'компетентность', 'а', 'вот', 'как', 'мне', 'выбирать', 'вас', 'по', 'каким', 'параметрам', 'потому', 'что', 'вы', 'рассказываете', 'я', 'человек', 'который', 'лет', 'работает', 'пролажен', 'рассказать', 'нужно', 'все', 'что', 'угодно', 'отработать', 'возражения', 'можно', 'предложить', 'какие', 'то', 'услуги', 'выгодные', 'месяц', 'все', 'что', 'угодно', 'ну', 'лояльности', 'спрашивается', 'месяц', 'не', 'показывает', 'не', 'показывает', 'и', 'вот', 'так', 'вот', 'все', 'работают', 'с', 'вашей', 'сферой', 'кто', 'работает', 'с', 'самой', 'сферой', 'мне', 'все', 'звонят', 'последний', 'момент', 'с', 'предложением', 'продлить', 'а', 'вот', 'компания', 'в', 'которой', 'я', 'работаю', 'а', 'так', 'нет', 'не', 'только', 'поэтому', 'просто', 'я', 'обратила', 'внимание', 'и', 'вы', 'пользуетесь', 'виджетами', 'мы', 'там', 'с', 'вами', 'сотрудничали', 'а', 'как', 'будет', 'недостаточно', 'хорошие', 'качественные', 'услуги', 'и', 'меня', 'все', 'исключительно', 'за', 'то', 'что', 'вы', 'мне', 'как', 'то', 'рассказываете', 'мне', 'очень', 'ага', 'да', 'а', 'если', 'вы', 'являетесь', 'то', 'лучше', 'то', 'идти', 'бесплатно', 'слушайте', 'очень', 'сложно', 'сказать', 'потому', 'что', 'виджетов', 'достаточно', 'много', 'не', 'все', 'ага', 'хорошо', 'а', 'настроены', 'подключены', 'от', 'разных', 'компаний', 'поэтому', 'как', 'бы', 'не', 'могу', 'сказать', 'я', 'прошу', 'прощения', 'просто', 'я', 'да', 'так', 'наверное', 'не', 'очень', 'а', 'а', 'да', 'но', 'ну', 'действительно', 'это', 'так', 'то', 'что', 'я', 'сказал', 'что', 'э', 'стоп', 'вот', 'там', 'самый', 'полтора', 'года', 'и', 'меня', 'все', 'время', 'действительно', 'удивляет', 'а', 'просто', 'извините', 'свой', 'подход', 'немножко', 'в', 'целом', 'компании', 'я', 'вам', 'даю', 'просто', 'хорошую', 'качественную', 'обратную', 'связь', 'которую', 'возможно', 'особо', 'не', 'дает', 'контакты', 'с', 'клиентами', 'вне', 'формате', 'их', 'завершения', 'лицензии', 'индивидуальным', 'поэтому', 'не', 'все', 'то', 'есть', 'сотрудничают', 'с', 'кем', 'то', 'сейчас', 'да', 'кому', 'то', 'например', 'не', 'с', 'кем', 'сейчас', 'справляться', 'кто', 'то', 'сравнивал', 'потому', 'что', 'вы', 'звоните', 'и', 'ну', 'то', 'есть', 'смотрите', 'у', 'меня', 'есть', 'история', 'годичная', 'работа', 'с', 'компанией', 'которая', 'у', 'меня', 'в', 'принципе', 'устраивает', 'которая', 'у', 'меня', 'контакт', 'о', 'сопровождении', 'они', 'не', 'только', 'там', 'предлагают', 'и', 'у', 'меня', 'нареканий', 'нет', 'это', 'хорошая', 'компания', 'и', 'а', 'компании', 'которые', 'и', 'то', 'есть', 'я', 'не', 'понимаю', 'как', 'вот', 'просто', 'подумайте', 'как', 'люди', 'как', 'клиенты', 'которым', 'вы', 'звоните', 'должны', 'изменить', 'свое', 'решение', 'по', 'отношению', 'к', 'вашей', 'компании', 'то', 'есть', 'у', 'меня', 'есть', 'годичная', 'история', 'работы', 'без', 'каких', 'либо', 'нареканий', 'и', 'вот', 'менеджеры', 'которые', 'мне', 'звонят', 'и', 'предлагают', 'пробить', 'через', 'них', 'по', 'какой', 'причине', 'я', 'должен', 'принять', 'решение', 'в', 'вашу', 'пользу', 'переключен', 'просто', 'нет', 'есть', 'да', 'мы', 'услышали', 'вас', 'спасибо', 'за', 'рекомендации', 'да', 'да', 'есть', 'такая', 'штуковина', 'ну', 'то', 'есть', 'получается', 'так', 'что', 'из', 'конверсии', 'той', 'базы', 'которую', 'вы', 'обзваниваете', 'скорее', 'всего', 'вы', 'получите', 'в', 'контракт', 'людей', 'у', 'которых', 'либо', 'же', 'печальное', 'сотрудничество', 'с', 'предыдущей', 'компанией', 'либо', 'у', 'кого', 'его', 'вообще', 'нету', 'ну', 'не', 'факт', 'что', 'вы', 'не', 'можете', 'получить', 'допустим', 'меня', 'в', 'контакте', 'да', 'делайте', 'аудиты', 'ну', 'то', 'есть', 'там', 'для', 'вас', 'это', 'вообще', 'копейки', 'и', 'не', 'так', 'много', 'времени', 'а', 'давайте', 'рекомендации', 'и', 'тогда', 'но', 'если', 'эти', 'рекомендации', 'и', 'аудит', 'даст', 'мне', 'реально', 'пользу', 'больше', 'и', 'та', 'компания', 'которая', 'сейчас', 'работает', 'не', 'видит', 'да', 'ну', 'то', 'есть', 'это', 'как', 'бы', 'простой', 'вот', 'понимаю', 'да', 'но', 'дело', 'в', 'том', 'что', 'в', 'основном', 'да', 'за', 'месяц', 'такой', 'простой', 'шаг', 'который', 'в', 'принципе', 'можете', 'делать', 'э', 'ну', 'я', 'не', 'понимаю', 'почему', 'и', 'никто', 'не', 'делает', 'алло', 'а', 'вот', 'эти', 'честно', 'ну', 'я', 'просто', 'уже', 'забиваю', 'со', 'счета', 'какую', 'по', 'счету', 'это', 'компания', 'которая', 'звонит', 'у', 'меня', 'решать', 'договор', 'и', 'вот', 'за', 'месяц', 'завершения', 'мне', 'звонят', 'из', 'компании', 'и', 'на', 'честно', 'это', 'вызывает', 'то', 'что', 'я', 'не', 'понимаю', 'что', 'хотите', 'услышать', 'но', 'исключительно', 'если', 'только', 'да', 'у', 'меня', 'по', 'случаю', 'есть', 'ага', 'необходимо', 'обзванивать', 'ага', 'хорошо', 'я', 'данную', 'информацию', 'тогда', 'зафиксирую', 'передам', 'будем', 'иметь', 'ввиду', 'ну', 'просто', 'подумайте', 'подумайте', 'вашей', 'командой', 'как', 'вы', 'можете', 'потому', 'что', 'это', 'ну', 'вот', 'эти', 'звонки', 'за', 'месяц', 'до', 'окончания', 'мне', 'конечно', 'интересно', 'какая', 'у', 'вас', 'конверсия', 'там', 'допустим', 'не', 'человек', 'которые', 'вы', 'обзваниваете', 'сколько', 'людей', 'соглашаются', 'ну', 'опять', 'же', 'тем', 'более', 'если', 'у', 'вас', 'есть', 'виджеты', 'если', 'нет', 'бесплатно', 'если', 'у', 'вас', 'видно', 'а', 'кто', 'ваш', 'это', 'все', 'можете', 'использовать', 'для', 'вашей', 'же', 'пользы', 'честно', 'я', 'не', 'понимаю', 'как', 'у', 'вас', 'в', 'продаже', 'если', 'что', 'вы', 'все', 'работаете', 'отдельно', 'никто', 'вот', 'да', 'спасибо', 'огромное', 'и', 'вам', 'спасибо', 'большое', 'за', 'обратную', 'связь', 'угу', 'всего', 'хорошего', 'до', 'свидания', 'да', 'здравствуйте', 'когда', 'заканчивается', 'алло', 'здравствуйте', 'меня', 'зовут', 'ангелина', 'компания', 'диджитал', 'бизнес', 'звоню', 'вам', 'по', 'поводу', 'продления', 'а', 'мы', 'сели', 'обратила', 'внимание', 'что', 'у', 'вас', 'срок', 'заканчивается', 'а', 'так', 'у', 'вас', 'заканчивается', 'февраля', 'на', 'полгода', 'минимальный', 'февраля', 'минимальный', 'срок', 'продления', 'какой', 'есть', 'а', 'у', 'вас', 'сейчас', 'базовый', 'правильно', 'сейчас', 'секунду', 'месяцев', 'у', 'меня', 'сколько', 'будет', 'стоить', 'на', 'текущее', 'количество', 'пользователей', 'что', 'пользователей', 'указан', 'правильно', 'не', 'знаю', 'не', 'знаю', 'сейчас', 'посмотрю', 'но', 'у', 'меня', 'угу', 'у', 'меня', 'вообще', 'активных', 'мне', 'пока', 'больше', 'не', 'надо', 'наверное', 'так', 'сейчас', 'секунду', 'а', 'нет', 'не', 'там', 'еще', 'нет', 'правильно', 'ну', 'допустим', 'месяцев', 'вот', 'на', 'человек', 'нашей', 'да', 'а', 'тариф', 'базовый', 'на', 'месяцев', 'это', 'р', 'так', 'пользователей', 'еще', 'раз', 'скажите', 'пожалуйста', 'да', 'р', 'тогда', 'такой', 'вопрос', 'и', 'это', 'допустим', 'сейчас', 'у', 'меня', 'вот', 'сказали', 'я', 'сделаю', 'можно', 'сделать', 'расчет', 'ну', 'то', 'есть', 'ну', 'как', 'пользователей', 'и', 'как', 'то', 'продлить', 'тем', 'самым', 'нет', 'да', 'конечно', 'вам', 'просто', 'нужно', 'будет', 'зайти', 'в', 'настройки', 'а', 'мы', 'серым', 'а', 'убрать', 'там', 'пользователей', 'а', 'после', 'этого', 'написать', 'в', 'техподдержку', 'а', 'маш', 'что', 'вот', 'вы', 'убрали', 'подтвердите', 'что', 'сейчас', 'вам', 'алло', 'а', 'а', 'вот', 'вверху', 'у', 'вас', 'там', 'будет', 'как', 'настройки', 'знаете', 'сейчас', 'прямо', 'здесь', 'скажите', 'пожалуйста', 'в', 'пользователя', 'надо', 'зайти', 'или', 'куда', 'да', 'ну', 'я', 'здесь', 'и', 'там', 'будет', 'ну', 'вот', 'сейчас', 'секунду', 'тут', 'есть', 'фильтр', 'сейчас', 'да', 'вот', 'где', 'раздел', 'как', 'для', 'админа', 'там', 'вам', 'нужно', 'будет', 'туда', 'зайти', 'и', 'там', 'будет', 'количество', 'пользователей', 'там', 'где', 'активировать', 'угу', 'все', 'все', 'все', 'сейчас', 'активные', 'пользователи', 'и', 'не', 'активные', 'пользователи', 'пользователей', 'да', 'сейчас', 'я', 'тогда', 'проверю', 'по', 'вашему', 'партнерскому', 'кабинету', 'секунду', 'так', 'ну', 'у', 'меня', 'кстати', 'также', 'пользователей', 'да', 'сейчас', 'так', 'в', 'очень', 'странно', 'мне', 'просто', 'указано', 'может', 'это', 'старая', 'информация', 'не', 'обновленная', 'а', 'могли', 'бы', 'назвать', 'ваш', 'номер', 'аккаунта', 'правильно', 'да', 'угу', 'да', 'сейчас', 'секунду', 'я', 'посмотрю', 'тогда', 'по', 'вашему', 'техническому', 'кабинету', 'так', 'да', 'по', 'партнерскому', 'у', 'вас', 'пользователей', 'все', 'правильно', 'тогда', 'обновлю', 'у', 'себя', 'информацию', 'а', 'тогда', 'ничего', 'не', 'нужно', 'будет', 'делать', 'просто', 'я', 'вам', 'посылаю', 'счет', 'и', 'февраля', 'да', 'все', 'то', 'есть', 'как', 'стандартная', 'да', 'у', 'вас', 'февраля', 'заканчивается', 'угу', 'хорошо', 'я', 'так', 'подумаю', 'вот', 'и', 'там', 'дальше', 'с', 'вами', 'свяжусь', 'что', 'как', 'дальше', 'угу', 'хорошо', 'я', 'тогда', 'вам', 'информацию', 'продублирую', 'чтобы', 'вы', 'ознакомились', 'в', 'сравнении', 'так', 'сказать', 'а', 'куда', 'вам', 'можно', 'на', 'ватсап', 'например', 'нет', 'ну', 'можете', 'на', 'почту', 'давайте', 'тогда', 'почту', 'проверим', 'инфо', 'собачка', 'эра', 'черточка', 'дэ', 'точка', 'ру', 'правильно', 'самое', 'только', 'вместо', 'инфо', 'денис', 'дэ', 'е', 'эн', 'угу', 'и', 'с', 'точкой', 'угу', 'да', 'вижу', 'я', 'эту', 'почту', 'хорошо', 'тогда', 'исправлю', 'на', 'эту', 'будем', 'ждать', 'ответа', 'всего', 'хорошего', 'до', 'свидания', 'алло', 'здравствуйте', 'алло', 'здравствуйте', 'меня', 'зовут', 'ангелина', 'компания', 'диджитал', 'бизнес', 'звоню', 'вам', 'по', 'поводу', 'продления', 'лицензии', 'а', 'мастера', 'мы', 'с', 'вами', 'сотрудничали', 'по', 'видео', 'там', 'а', 'нет', 'я', 'еще', 'не', 'отправляла', 'я', 'решила', 'вам', 'набрать', 'ну', 'разговаривать', 'удобно', 'да', 'удобно', 'вам', 'сейчас', 'говорить', 'что', 'я', 'вам', 'так', 'рассказала', 'угу', 'хорошо', 'а', 'вы', 'сейчас', 'подскажите', 'по', 'каким', 'критериям', 'выбираете', 'партнера', 'чтобы', 'мы', 'могли', 'подготовить', 'для', 'вас', 'предложение', 'так', 'цена', 'и', 'эти', 'индексации', 'какие', 'есть', 'угу', 'я', 'поняла', 'ну', 'по', 'стоимости', 'везде', 'одинаковые', 'по', 'официальным', 'партнерам', 'да', 'цена', 'у', 'всех', 'одинаковая', 'там', 'поэтому', 'могу', 'сказать', 'вот', 'по', 'преимуществам', 'то', 'есть', 'если', 'про', 'преимущества', 'то', 'у', 'нас', 'более', 'виджетов', 'вам', 'идет', 'бесплатно', 'а', 'там', 'же', 'идет', 'кэшбэк', 'вам', 'эта', 'сумма', 'возвращается', 'то', 'есть', 'когда', 'то', 'что', 'вы', 'можете', 'так', 'ваша', 'компания', 'как', 'называется', 'диджитал', 'бизнес', 'здесь', 'же', 'это', 'у', 'бизнес', 'так', 'там', 'на', 'севере', 'так', 'да', 'ага', 'вижу', 'я', 'вам', 'еще', 'раз', 'говорю', 'на', 'ватсап', 'предложение', 'угу', 'вот', 'и', 'смотрите', 'на', 'счет', 'кэшбэка', 'то', 'что', 'у', 'вас', 'кэшбэк', 'вы', 'за', 'эту', 'сумму', 'можете', 'например', 'приобрести', 'какой', 'то', 'бизнес', 'процесс', 'который', 'будет', 'для', 'вас', 'более', 'актуально', 'то', 'есть', 'для', 'именно', 'вашего', 'бизнеса', 'например', 'там', 'автоматизация', 'в', 'воронке', 'да', 'либо', 'же', 'так', 'контроль', 'например', 'отказов', 'то', 'есть', 'только', 'для', 'вас', 'подойдет', 'для', 'этого', 'вам', 'наш', 'аналитик', 'уже', 'подберет', 'что', 'для', 'вас', 'будет', 'более', 'актуально', 'поэтому', 'я', 'хотела', 'бы', 'вам', 'предложить', 'встречу', 'там', 'на', 'минут', 'у', 'вас', 'будут', 'окошки', 'там', 'например', 'на', 'следующей', 'неделе', 'вы', 'нашли', 'да', 'наш', 'сайт', 'подсветка', 'сделок', 'да', 'да', 'да', 'угу', 'так', 'значит', 'у', 'вас', 'пишет', 'и', 'все', 'а', 'подскажите', 'тогда', 'что', 'вам', 'нужно', 'чтобы', 'вы', 'могли', 'подготовить', 'индивидуальное', 'предложение', 'и', 'что', 'нам', 'нужно', 'да', 'нам', 'нужна', 'интеграция', 'с', 'ватсапа', 'угу', 'угу', 'нам', 'нужна', 'этот', 'удаление', 'дублей', 'и', 'нам', 'нужно', 'этот', 'виджет', 'который', 'как', 'вот', 'так', 'сейчас', 'сейчас', 'я', 'вам', 'еще', 'точно', 'скажу', 'я', 'у', 'меня', 'не', 'списывается', 'потом', 'нам', 'нужен', 'виджет', 'который', 'а', 'сделать', 'обязательно', 'несколько', 'раз', 'группировка', 'полей', 'да', 'не', 'не', 'не', 'грузируется', 'делает', 'обязательно', 'а', 'выделение', 'на', 'диск', 'угу', 'да', 'а', 'ну', 'вот', 'насчет', 'выделения', 'потом', 'подсветки', 'это', 'по', 'процентам', 'есть', 'а', 'насчет', 'вот', 'интеграции', 'как', 'бы', 'как', 'можно', 'реализовать', 'то', 'есть', 'мы', 'приобретаем', 'эту', 'интеграцию', 'а', 'вы', 'можете', 'ее', 'оплатить', 'например', 'кэшбэком', 'пока', 'что', 'так', 'угу', 'понял', 'хорошо', 'с', 'кэшбэка', 'у', 'вас', 'идет', 'от', 'суммы', 'которую', 'оплачиваете', 'вот', 'а', 'а', 'вы', 'мне', 'можете', 'помочь', 'не', 'подскажете', 'вот', 'коммерческая', 'да', 'конечно', 'вам', 'на', 'ватсап', 'или', 'на', 'почту', 'можете', 'скинуть', 'коммерческая', 'не', 'угу', 'на', 'почту', 'можно', 'на', 'подключится', 'ну', 'вы', 'мне', 'это', 'так', 'давайте', 'тогда', 'проверим', 'смотрите', 'тут', 'просто', 'почты', 'есть', 'почта', 'да', 'да', 'да', 'на', 'почте', 'меньше', 'нет', 'нет', 'сапаров', 'собачка', 'а', 'вот', 'астана', 'собачка', 'ираклас', 'точка', 'кз', 'она', 'нет', 'тоже', 'нету', 'да', 'еще', 'раз', 'жесупов', 'собачка', 'аэропорт', 'угу', 'или', 'вы', 'мне', 'напишите', 'новое', 'не', 'перепутала', 'оставлю', 'тогда', 'на', 'ватсап', 'хорошо', 'а', 'за', 'счет', 'времени', 'вы', 'не', 'сориентировали', 'у', 'вас', 'вот', 'на', 'следующей', 'неделе', 'когда', 'будет', 'чтобы', 'созвониться', 'с', 'бизнес', 'аналитиком', 'угу', 'у', 'нас', 'еще', 'неделя', 'но', 'давайте', 'до', 'среды', 'решим', 'этот', 'угу', 'так', 'у', 'вас', 'в', 'любое', 'время', 'есть', 'с', 'какого', 'по', 'какого', 'что', 'что', 'а', 'в', 'любое', 'время', 'хорошо', 'тогда', 'я', 'аналитику', 'по', 'этому', 'вопросу', 'напишу', 'а', 'он', 'мне', 'тоже', 'напишет', 'свои', 'окошки', 'а', 'я', 'вам', 'в', 'ватсап', 'угу', 'угу', 'хорошо', 'напишу', 'что', 'будет', 'да', 'угу', 'хорошо', 'тогда', 'сейчас', 'вам', 'отправлю', 'и', 'звоните', 'на', 'следующей', 'неделе', 'угу', 'хорошо', 'все', 'хорошо', 'добрый', 'день', 'алло', 'дмитрий', 'добрый', 'день', 'добрый', 'меня', 'максим', 'зовут', 'компания', 'китобизнес', 'удобно', 'говорить', 'да', 'удобно', 'да', 'дмитрий', 'вот', 'мне', 'моя', 'коллега', 'анастасия', 'подсказала', 'что', 'у', 'вас', 'есть', 'какие', 'то', 'открытые', 'вопросы', 'связанные', 'с', 'техническими', 'особенностями', 'а', 'мы', 'серым', 'вот', 'готов', 'буду', 'его', 'ответить', 'или', 'взять', 'паузу', 'и', 'решите', 'эти', 'вопросы', 'уточните', 'пожалуйста', 'в', 'чем', 'задача', 'состоит', 'а', 'задача', 'в', 'общем', 'то', 'стоит', 'из', 'чего', 'сейчас', 'секунду', 'угу', 'в', 'общем', 'настроить', 'воронки', 'как', 'бы', 'и', 'все', 'такое', 'я', 'могу', 'сам', 'вот', 'и', 'даже', 'сделать', 'этого', 'сэйл', 'с', 'ботом', 'очень', 'важно', 'я', 'думаю', 'вот', 'например', 'да', 'очень', 'важно', 'чтобы', 'я', 'думаю', 'вот', 'например', 'я', 'увидел', 'обновление', 'инбокс', 'да', 'появился', 'вот', 'там', 'сохранится', 'прям', 'сейчас', 'и', 'сразу', 'мессенджер', 'да', 'да', 'абсолютно', 'все', 'то', 'есть', 'это', 'единое', 'такое', 'окно', 'коммуникации', 'в', 'которое', 'подтягивается', 'информация', 'со', 'всех', 'каналов', 'коммуникации', 'в', 'том', 'числе', 'вы', 'там', 'видите', 'письма', 'и', 'сообщения', 'из', 'разных', 'мессенджеров', 'доступны', 'к', 'ответу', 'угу', 'так', 'а', 'вот', 'подскажите', 'пожалуйста', 'может', 'быть', 'просто', 'мы', 'вам', 'подскажем', 'какие', 'то', 'еще', 'продукты', 'от', 'нашей', 'компании', 'которые', 'можно', 'было', 'бы', 'внедрить', 'и', 'получить', 'какую', 'то', 'пользу', 'вот', 'у', 'вас', 'вообще', 'бизнес', 'вы', 'на', 'чем', 'специализируете', 'и', 'с', 'чем', 'связано', 'бизнес', 'я', 'понял', 'так', 'что', 'есть', 'еще', 'транспортная', 'компания', 'транспортная', 'компания', 'хорошо', 'а', 'у', 'вас', 'уже', 'вот', 'все', 'интеграции', 'сделаны', 'ну', 'то', 'есть', 'там', 'каналы', 'коммуникации', 'от', 'клиентов', 'поступления', 'ледов', 'вот', 'это', 'вот', 'уже', 'сделано', 'или', 'это', 'вы', 'еще', 'только', 'планируете', 'все', 'настраивать', 'ну', 'смотрите', 'мы', 'планируем', 'это', 'все', 'настраивать', 'и', 'я', 'так', 'понимаю', 'то', 'что', 'у', 'вас', 'это', 'не', 'бесплатно', 'правильно', 'это', 'не', 'может', 'быть', 'бесплатно', 'да', 'но', 'если', 'мы', 'будем', 'прям', 'настраивать', 'вам', 'серым', 'систему', 'внедрять', 'так', 'скажем', 'да', 'то', 'это', 'конечно', 'не', 'будет', 'бесплатным', 'вот', 'просто', 'здесь', 'я', 'вот', 'услышал', 'что', 'вы', 'какие', 'то', 'вещи', 'будете', 'сами', 'делать', 'ну', 'допустим', 'там', 'настраивать', 'воронки', 'там', 'да', 'и', 'так', 'далее', 'просто', 'вам', 'там', 'в', 'перспективе', 'возможно', 'потребуется', 'какая', 'то', 'помощь', 'все', 'равно', 'там', 'настройки', 'тех', 'или', 'иных', 'интеграций', 'то', 'есть', 'вы', 'больше', 'времени', 'потратите', 'нежели', 'там', 'через', 'интегратора', 'ну', 'давайте', 'знаете', 'как', 'мы', 'сделаем', 'что', 'в', 'любом', 'случае', 'ну', 'давайте', 'знаете', 'как', 'мы', 'угу', 'я', 'сначала', 'сам', 'попробую', 'когда', 'это', 'уделал', 'а', 'потом', 'уже', 'если', 'что', 'то', 'я', 'там', 'подкорректировать', 'не', 'сложно', 'будет', 'правильно', 'если', 'это', 'за', 'деньги', 'в', 'любом', 'случае', 'да', 'нет', 'конечно', 'не', 'сложно', 'да', 'ну', 'смотрите', 'да', 'мы', 'же', 'здесь', 'в', 'общем', 'и', 'целом', 'после', 'того', 'как', 'начнем', 'да', 'сотрудничество', 'с', 'вами', 'там', 'в', 'рамках', 'лицензии', 'вы', 'там', 'получите', 'начнете', 'пользоваться', 'амо', 'вот', 'осядьте', 'что', 'то', 'внедрять', 'вам', 'потребуется', 'какая', 'то', 'консультация', 'ну', 'во', 'консультация', 'которая', 'вот', 'ну', 'там', 'серии', 'у', 'вас', 'просто', 'есть', 'какой', 'то', 'вопрос', 'мы', 'за', 'это', 'деньги', 'не', 'берем', 'мы', 'ну', 'как', 'бы', 'консультируем', 'и', 'не', 'ама', 'и', 'мы', 'как', 'бы', 'заинтересованы', 'чтобы', 'бизнесы', 'наших', 'партнеров', 'росли', 'поэтому', 'мы', 'готовы', 'там', 'консультировать', 'вот', 'но', 'а', 'если', 'там', 'потребуются', 'какие', 'то', 'действия', 'уже', 'со', 'стороны', 'нашего', 'бизнеса', 'аналитика', 'ну', 'здесь', 'будем', 'договариваться', 'но', 'опять', 'таки', 'мы', 'достаточно', 'гибки', 'к', 'нашим', 'клиентам', 'мы', 'как', 'правило', 'у', 'нас', 'это', 'ниже', 'чем', 'там', 'по', 'по', 'рынку', 'которую', 'мы', 'берем', 'ну', 'вот', 'так', 'ну', 'я', 'думаю', 'что', 'здесь', 'мы', 'точно', 'смогли', 'бы', 'договориться', 'угу', 'вот', 'ну', 'смотрите', 'здесь', 'наверное', 'вот', 'с', 'точки', 'зрения', 'а', 'самого', 'внедрения', 'процесса', 'ну', 'я', 'я', 'бы', 'вам', 'рекомендовал', 'ну', 'как', 'бы', 'стартовать', 'просто', 'с', 'базовых', 'вещей', 'то', 'есть', 'построить', 'воронку', 'подключить', 'все', 'каналы', 'коммуникации', 'чтобы', 'они', 'падали', 'по', 'амо', 'си', 'эр', 'эм', 'вот', 'и', 'дальше', 'уже', 'после', 'того', 'как', 'у', 'вас', 'вот', 'этот', 'костяк', 'будет', 'сложен', 'можно', 'будет', 'обсудить', 'развитие', 'да', 'то', 'есть', 'поговорить', 'о', 'том', 'как', 'выстроено', 'у', 'вас', 'те', 'или', 'иные', 'бизнес', 'процессы', 'и', 'что', 'можно', 'было', 'бы', 'дополнительного', 'от', 'нас', 'подключить', 'то', 'есть', 'это', 'как', 'бы', 'шаг', 'номер', 'наверное', 'сперва', 'надо', 'вот', 'с', 'этого', 'допустить', 'чтобы', 'у', 'вас', 'хоть', 'какая', 'то', 'работа', 'уже', 'начала', 'производиться', 'ладно', 'а', 'дальше', 'уже', 'у', 'вас', 'и', 'как', 'раз', 'и', 'вырисуется', 'там', 'проблематики', 'которые', 'вы', 'будете', 'решать', 'и', 'мы', 'можем', 'на', 'этом', 'этапе', 'уже', 'определить', 'план', 'действий', 'угу', 'давайте', 'чтобы', 'пустой', 'разговор', 'не', 'вести', 'мы', 'с', 'вами', 'созвонимся', 'с', 'понедельника', 'чтобы', 'как', 'бы', 'это', 'с', 'руководителем', 'почему', 'то', 'пришли', 'угу', 'хорошо', 'давайте', 'давайте', 'так', 'тогда', 'наберем', 'вас', 'за', 'это', 'время', 'а', 'в', 'какое', 'время', 'вы', 'перезвоните', 'а', 'скажите', 'когда', 'удобно', 'так', 'и', 'наберем', 'давайте', 'часов', 'в', 'наверное', 'да', 'смогу', 'набрать', 'в', 'наберу', 'вас', 'угу', 'все', 'хорошо', 'угу', 'все', 'хорошо', 'да', 'понедельника', 'тогда', 'всего', 'доброго', 'да', 'до', 'свидания', 'алло', 'алло', 'добрый', 'вот', 'по', 'виду', 'платежи', 'пообщаться', 'помните', 'мы', 'вот', 'с', 'вами', 'обсуждали', 'вас', 'там', 'функционал', 'не', 'очень', 'в', 'нашем', 'продукте', 'подходил', 'вот', 'по', 'промежуточным', 'задачам', 'вот', 'а', 'скажите', 'пожалуйста', 'а', 'сейчас', 'этот', 'вопрос', 'актуален', 'для', 'вас', 'угу', 'ну', 'в', 'принципе', 'да', 'я', 'понял', 'ну', 'мы', 'хотели', 'бы', 'просто', 'предложить', 'такой', 'вариант', 'развития', 'событий', 'в', 'принципе', 'мы', 'угу', 'готовы', 'будем', 'для', 'вашего', 'клиента', 'это', 'использовать', 'работать', 'вот', 'наверное', 'в', 'рамках', 'недели', 'полторы', 'наверное', 'займет', 'вот', 'но', 'так', 'как', 'мы', 'будем', 'приобретете', 'поэтому', 'если', 'нет', 'каких', 'то', 'других', 'соответственно', 'условия', 'которые', 'мешают', 'вам', 'его', 'приобрести', 'то', 'я', 'вам', 'предлагаю', 'просто', 'предложить', 'это', 'видеть', 'клиенту', 'вот', 'его', 'оплачивать', 'а', 'на', 'сколько', 'можно', 'идти', 'понятно', 'а', 'оплата', 'на', 'сколько', 'должна', 'быть', 'на', 'этот', 'раз', 'да', 'мы', 'на', 'год', 'принимаем', 'оплату', 'угу', 'да', 'так', 'давайте', 'я', 'предложу', 'хорошо', 'и', 'вы', 'имеете', 'ввиду', 'доработку', 'какую', 'это', 'когда', 'а', 'вот', 'а', 'ну', 'вот', 'помните', 'айдар', 'вам', 'не', 'подходило', 'то', 'что', 'вот', 'вы', 'ставили', 'конечную', 'дату', 'платежа', 'и', 'у', 'вас', 'промежуточные', 'платежи', 'по', 'ним', 'задачи', 'вот', 'не', 'выставляли', 'то', 'есть', 'вы', 'получали', 'задачу', 'на', 'конечную', 'дату', 'вот', 'и', 'вот', 'это', 'было', 'ну', 'тем', 'фактором', 'который', 'вам', 'не', 'подошел', 'именно', 'в', 'этом', 'виде', 'этих', 'платежей', 'вот', 'а', 'там', 'что', 'как', 'галочки', 'просто', 'вылезли', 'да', 'читались', 'угу', 'ну', 'не', 'только', 'задача', 'эти', 'под', 'под', 'не', 'запускается', 'ну', 'вот', 'вот', 'вот', 'им', 'же', 'главное', 'чтобы', 'а', 'я', 'понял', 'ну', 'да', 'да', 'да', 'тогда', 'вот', 'вот', 'эти', 'вот', 'вещи', 'мы', 'их', 'готовы', 'учесть', 'будем', 'клиентам', 'уходило', 'напоминание', 'об', 'очередном', 'платеже', 'угу', 'хорошо', 'я', 'дам', 'ну', 'да', 'да', 'обсудите', 'а', 'в', 'какой', 'форме', 'это', 'вот', 'ответ', 'возьмите', 'а', 'если', 'про', 'саму', 'форму', 'ну', 'то', 'есть', 'вы', 'получите', 'там', 'ну', 'наверное', 'подтверждение', 'и', 'какая', 'форма', 'обязательства', 'нужно', 'ну', 'то', 'есть', 'что', 'требуется', 'для', 'того', 'чтобы', 'на', 'ну', 'собственно', 'для', 'вас', 'это', 'было', 'приемлемо', 'там', 'я', 'не', 'знаю', 'там', 'письмо', 'какое', 'то', 'там', 'или', 'какая', 'то', 'там', 'еще', 'информация', 'ну', 'то', 'есть', 'вы', 'как', 'скажете', 'давайте', 'так', 'попробуем', 'договориться', 'если', 'что', 'угу', 'ну', 'вот', 'хорошо', 'я', 'понял', 'да', 'у', 'меня', 'с', 'ним', 'связь', 'будет', 'в', 'понедельник', 'давайте', 'все', 'тогда', 'а', 'вас', 'когда', 'вам', 'когда', 'лучше', 'тогда', 'на', 'сайт', 'позвонить', 'в', 'понедельник', 'или', 'во', 'вторник', 'лучше', 'во', 'вторник', 'все', 'ну', 'с', 'вами', 'да', 'тогда', 'до', 'вторника', 'до', 'свидания', 'угу', 'да', 'до', 'свидания', 'алло', 'да', 'это', 'анастасия', 'смотрите', 'мы', 'сейчас', 'уже', 'нашли', 'как', 'бы', 'да', 'мы', 'всю', 'базу', 'сейчас', 'вы', 'цель', 'скачали', 'ну', 'скачиваем', 'как', 'бы', 'да', 'угу', 'вот', 'мы', 'просто', 'нашли', 'сами', 'сейчас', 'всю', 'базу', 'вот', 'эти', 'вот', 'выкачали', 'мы', 'тогда', 'предлагаем', 'как', 'если', 'мы', 'сейчас', 'обнулим', 'ее', 'полностью', 'да', 'ну', 'как', 'бы', 'очистим', 'и', 'значит', 'вот', 'смотрите', 'вот', 'тут', 'дима', 'там', 'вопросы', 'я', 'не', 'знаю', 'или', 'к', 'вам', 'или', 'вы', 'нас', 'после', 'тогда', 'переведите', 'на', 'специалиста', 'так', 'да', 'да', 'хорошо', 'смотрите', 'давайте', 'по', 'порядку', 'хорошо', 'давай', 'а', 'вы', 'сейчас', 'загружаете', 'всю', 'базу', 'в', 'эксель', 'а', 'но', 'смотрите', 'получается', 'получается', 'удаляете', 'все', 'само', 'вообще', 'то', 'есть', 'у', 'вас', 'останутся', 'только', 'контакты', 'и', 'все', 'сделки', 'вся', 'история', 'по', 'клиентам', 'и', 'все', 'контакты', 'предыдущий', 'стирутся', 'то', 'есть', 'вам', 'придется', 'да', 'ну', 'мы', 'их', 'мы', 'их', 'да', 'мы', 'их', 'вы', 'да', 'мы', 'их', 'в', 'эксель', 'заведем', 'как', 'бы', 'да', 'потому', 'что', 'ну', 'как', 'бы', 'там', 'правильные', 'ввели', 'неправильный', 'мы', 'по', 'новой', 'лучше', 'сейчас', 'сделаем', 'все', 'правильно', 'как', 'бы', 'мы', 'хотим', 'сделать', 'все', 'правильно', 'может', 'быть', 'даже', 'с', 'вашей', 'помощью', 'вы', 'нам', 'что', 'то', 'там', 'подскажете', 'как', 'лучше', 'сделать', 'чтобы', 'правильно', 'нам', 'ла', 'ла', 'ла', 'потому', 'что', 'угу', 'до', 'этого', 'мы', 'сейчас', 'посмотрели', 'там', 'неправильно', 'все', 'как', 'то', 'ввели', 'у', 'нас', 'никакой', 'статистики', 'ничего', 'не', 'было', 'если', 'вы', 'нам', 'ну', 'как', 'бы', 'какие', 'то', 'рекомендации', 'дадите', 'то', 'было', 'бы', 'тоже', 'замечательно', 'чтобы', 'мы', 'правильно', 'как', 'бы', 'работали', 'сейчас', 'да', 'и', 'мы', 'хотим', 'тогда', 'все', 'стереть', 'и', 'как', 'бы', 'уже', 'работать', 'по', 'новому', 'да', 'понимаю', 'вас', 'смотрите', 'но', 'вы', 'вы', 'же', 'понимаете', 'да', 'что', 'вам', 'сейчас', 'вы', 'загружаете', 'базу', 'в', 'эксель', 'и', 'вам', 'потом', 'каждого', 'клиента', 'придется', 'заново', 'создавать', 'карточку', 'то', 'есть', 'все', 'это', 'вручную', 'да', 'да', 'да', 'да', 'да', 'все', 'хорошо', 'я', 'вас', 'поняла', 'тогда', 'вы', 'хотите', 'сейчас', 'полностью', 'обновиться', 'и', 'уже', 'начать', 'правильно', 'работать', 'да', 'да', 'да', 'да', 'да', 'да', 'так', 'хорошо', 'здесь', 'вас', 'поняла', 'говорите', 'какой', 'у', 'вас', 'вопрос', 'я', 'уже', 'скажу', 'кто', 'вам', 'поможет', 'вот', 'у', 'вашего', 'да', 'да', 'да', 'здравствуйте', 'анастасия', 'меня', 'слышно', 'да', 'хорошо', 'да', 'слышно', 'отлично', 'мне', 'нужно', 'узнать', 'каким', 'образом', 'я', 'смогу', 'сделать', 'на', 'бесплатной', 'основе', 'смотрите', 'по', 'поводу', 'тарифа', 'вот', 'и', 'какой', 'тариф', 'подойдет', 'нет', 'смотрите', 'мне', 'я', 'понимаю', 'что', 'там', 'что', 'то', 'подключается', 'там', 'достаточно', 'легко', 'самому', 'все', 'это', 'сделать', 'мне', 'важно', 'понять', 'какой', 'тариф', 'по', 'поводу', 'тарифов', 'лицензии', 'отдельно', 'виджет', 'отдельно', 'то', 'есть', 'вы', 'сейчас', 'вам', 'ничего', 'не', 'мешает', 'просто', 'продиктуйте', 'лицензию', 'чтобы', 'у', 'вас', 'начало', 'работать', 'а', 'по', 'поводу', 'виджетов', 'я', 'вам', 'сейчас', 'ну', 'вы', 'мне', 'дадите', 'ваш', 'номер', 'с', 'вами', 'уже', 'свяжется', 'человек', 'который', 'непосредственно', 'по', 'виджетам', 'но', 'там', 'они', 'уже', 'отдельно', 'подключаются', 'то', 'есть', 'я', 'вам', 'не', 'могу', 'сейчас', 'сказать', 'отдельно', 'определенный', 'какой', 'то', 'тариф', 'то', 'есть', 'это', 'разные', 'вещи', 'и', 'там', 'уже', 'вы', 'будете', 'конкретно', 'под', 'ваш', 'бизнес', 'разговаривать', 'и', 'вам', 'уже', 'что', 'то', 'посоветуют', 'смотрите', 'а', 'по', 'поводу', 'тарифа', 'при', 'каком', 'тарифе', 'будет', 'работать', 'этот', 'виджет', 'ну', 'любой', 'вообще', 'или', 'там', 'движет', 'зависит', 'от', 'тарифов', 'как', 'то', 'ничего', 'ну', 'виджеты', 'есть', 'часть', 'виджетов', 'которые', 'не', 'работают', 'при', 'базовом', 'тарифе', 'то', 'есть', 'вам', 'по', 'любому', 'либо', 'расширенный', 'либо', 'профессиональный', 'я', 'правильно', 'понимаю', 'что', 'у', 'вас', 'был', 'профессиональный', 'сейчас', 'да', 'да', 'да', 'ну', 'вот', 'вам', 'сейчас', 'если', 'вы', 'например', 'перейдете', 'сейчас', 'на', 'расширенный', 'то', 'по', 'поводу', 'виджетов', 'они', 'также', 'подстраиваются', 'под', 'расширенными', 'то', 'есть', 'здесь', 'проблемы', 'нет', 'если', 'базовый', 'туда', 'там', 'уже', 'от', 'себя', 'за', 'себя', 'ограничен', 'да', 'да', 'и', 'на', 'пользователя', 'правильно', 'да', 'да', 'все', 'верно', 'угу', 'так', 'ну', 'тогда', 'вот', 'скажите', 'если', 'у', 'нас', 'пользователь', 'расширенный', 'тогда', 'это', 'в', 'год', 'это', 'сколько', 'будет', 'тогда', 'нам', 'стоить', 'с', 'учетом', 'месяца', 'я', 'так', 'понимаю', 'вот', 'здесь', 'написано', 'у', 'вас', 'получится', 'всего', 'в', 'сумме', 'месяцев', 'там', 'от', 'ама', 'месяца', 'и', 'от', 'нас', 'месяц', 'в', 'подарок', 'ага', 'и', 'вот', 'вот', 'смотрите', 'мы', 'сейчас', 'в', 'этом', 'ну', 'как', 'бы', 'в', 'личном', 'кабинете', 'и', 'у', 'нас', 'выходит', 'вот', 'год', 'все', 'верно', 'с', 'нами', 'точно', 'такая', 'же', 'цена', 'только', 'с', 'нами', 'месяцев', 'в', 'подарок', 'и', 'год', 'если', 'расширенный', 'выходит', 'месяца', 'в', 'подарок', 'так', 'а', 'ну', 'вы', 'как', 'вы', 'подключаете', 'и', 'через', 'ваш', 'как', 'сервис', 'идет', 'бонус', 'правильно', 'а', 'поддержка', 'то', 'есть', 'там', 'еще', 'ряд', 'прибудет', 'какой', 'я', 'вам', 'звоню', 'да', 'все', 'верно', 'то', 'есть', 'я', 'вам', 'просто', 'сейчас', 'выставляю', 'счет', 'ну', 'понятно', 'вы', 'просто', 'посредники', 'вы', 'оплачиваете', 'и', 'нам', 'мы', 'потом', 'ама', 'то', 'есть', 'за', 'лицензию', 'у', 'нас', 'цены', 'точно', 'такие', 'же', 'как', 'и', 'вам', 'потому', 'что', 'мы', 'являемся', 'партнером', 'да', 'мы', 'партнер', 'который', 'да', 'да', 'да', 'и', 'когда', 'счет', 'будет', 'да', 'да', 'да', 'за', 'месяцев', 'да', 'или', 'за', 'да', 'все', 'верно', 'ну', 'смотрите', 'там', 'уже', 'если', 'у', 'вас', 'по', 'амо', 'будут', 'какие', 'то', 'вопросы', 'а', 'в', 'поддержку', 'что', 'вот', 'ну', 'как', 'бы', 'ваши', 'будут', 'входить', 'нет', 'это', 'я', 'понимаю', 'это', 'да', 'это', 'это', 'я', 'все', 'понимаю', 'мы', 'уже', 'как', 'бы', 'это', 'проходили', 'бывает', 'то', 'что', 'там', 'не', 'знаю', 'что', 'то', 'не', 'прогружается', 'либо', 'что', 'то', 'не', 'работает', 'если', 'вы', 'будете', 'обращаться', 'вам', 'то', 'они', 'либо', 'могут', 'отвечать', 'неделями', 'да', 'а', 'если', 'мы', 'к', 'вам', 'будем', 'вот', 'смотрите', 'мы', 'сейчас', 'например', 'если', 'с', 'вот', 'смотрите', 'у', 'нас', 'вот', 'я', 'вам', 'прописывала', 'наши', 'условия', 'вы', 'можете', 'ну', 'например', 'если', 'мы', 'сейчас', 'начнем', 'чтобы', 'вы', 'нам', 'например', 'ну', 'как', 'продиагностировали', 'может', 'быть', 'да', 'и', 'какие', 'то', 'рекомендации', 'что', 'то', 'мы', 'сами', 'делаем', 'например', 'да', 'а', 'что', 'то', 'например', 'вы', 'бы', 'нам', 'сказали', 'и', 'там', 'помогли', 'наладить', 'что', 'правильно', 'работало', 'это', 'возможно', 'или', 'это', 'не', 'входит', 'в', 'эту', 'вашу', 'обязанность', 'и', 'здесь', 'прописано', 'то', 'что', 'мы', 'за', 'вами', 'закрепляем', 'выделенного', 'сотрудника', 'то', 'есть', 'будет', 'человек', 'который', 'а', 'там', 'раз', 'в', 'неделю', 'будет', 'как', 'то', 'диагностировать', 'вашу', 'сирену', 'давать', 'какие', 'то', 'рекомендации', 'то', 'есть', 'здесь', 'вы', 'можете', 'с', 'нами', 'спокойно', 'все', 'обсуждать', 'мы', 'с', 'вами', 'вместе', 'можем', 'строить', 'какие', 'то', 'планы', 'на', 'серен', 'там', 'на', 'развитие', 'вашего', 'бизнеса', 'и', 'так', 'далее', 'угу', 'то', 'есть', 'здесь', 'мы', 'за', 'здесь', 'мы', 'с', 'вами', 'ну', 'вот', 'это', 'вот', 'это', 'хорошо', 'просто', 'понимаете', 'выходит', 'следующее', 'вот', 'как', 'обычно', 'например', 'люди', 'сначала', 'продают', 'они', 'говорят', 'да', 'да', 'да', 'мы', 'вам', 'поможем', 'все', 'сделаем', 'все', 'мы', 'купили', 'и', 'почта', 'начинается', 'например', 'да', 'мы', 'вопросы', 'они', 'говорят', 'это', 'платно', 'мы', 'еще', 'че', 'то', 'это', 'платно', 'мы', 'еще', 'че', 'то', 'это', 'платно', 'вот', 'так', 'да', 'я', 'вас', 'понимаю', 'и', 'мы', 'знаем', 'об', 'этой', 'ситуации', 'в', 'принципе', 'сейчас', 'это', 'является', 'вот', 'таким', 'конкурентным', 'преимуществом', 'и', 'более', 'того', 'также', 'раньше', 'было', 'и', 'с', 'поддержкой', 'то', 'что', 'блин', 'а', 'когда', 'ему', 'говоришь', 'так', 'мы', 'же', 'в', 'начале', 'покупали', 'вы', 'сказали', 'что', 'будете', 'ну', 'как', 'бы', 'там', 'какую', 'то', 'консультацию', 'давать', 'еще', 'этот', 'ну', 'вот', 'у', 'нас', 'так', 'теперь', 'и', 'вот', 'это', 'как', 'то', 'не', 'корректно', 'мне', 'кажется', 'ну', 'я', 'просто', 'свое', 'мнение', 'я', 'не', 'то', 'что', 'там', 'какие', 'то', 'претензии', 'но', 'чтобы', 'тоже', 'понимать', 'как', 'бы', 'да', 'ну', 'да', 'и', 'это', 'тоже', 'вам', 'там', 'говорят', 'а', 'по', 'факту', 'потом', 'просто', 'вы', 'также', 'ждете', 'неделями', 'как', 'и', 'вам', 'отдали', 'бы', 'поэтому', 'есть', 'если', 'вы', 'пишите', 'именно', 'ваш', 'чат', 'поддержки', 'либо', 'к', 'нам', 'на', 'почту', 'ну', 'и', 'меня', 'вот', 'это', 'вот', 'еще', 'то', 'что', 'бы', 'например', 'вот', 'это', 'возможно', 'ли', 'например', 'проанализировать', 'наш', 'ну', 'например', 'аккаунт', 'да', 'хэлп', 'которая', 'вот', 'то', 'у', 'нас', 'прописан', 'договор', 'в', 'котором', 'прописано', 'что', 'вам', 'отвечают', 'не', 'более', 'там', 'от', 'до', 'часов', 'но', 'обычно', 'это', 'вообще', 'минут', 'занимает', 'то', 'есть', 'здесь', 'не', 'будет', 'такого', 'что', 'у', 'вас', 'там', 'что', 'то', 'виснет', 'вы', 'неделю', 'ждете', 'и', 'и', 'все', 'и', 'работа', 'остановилась', 'мы', 'понимаем', 'то', 'что', 'это', 'деньги', 'ваши', 'и', 'это', 'должно', 'функционировать', 'то', 'есть', 'здесь', 'проблем', 'не', 'будет', 'да', 'да', 'и', 'спросить', 'например', 'ну', 'или', 'например', 'мы', 'вам', 'скажем', 'то', 'что', 'нам', 'нужно', 'и', 'вы', 'нам', 'какие', 'то', 'рекомендации', 'как', 'это', 'наладить', 'ну', 'чтобы', 'мы', 'как', 'бы', 'работали', 'полноценно', 'в', 'этой', 'программе', 'потому', 'что', 'вы', 'же', 'все', 'равно', 'знаете', 'при', 'каких', 'преимуществах', 'и', 'вы', 'например', 'нам', 'бы', 'сказали', 'что', 'ребят', 'вот', 'вам', 'вы', 'вот', 'здесь', 'вот', 'наладьте', 'вот', 'так', 'вот', 'так', 'у', 'вас', 'будет', 'там', 'графики', 'строить', 'вот', 'это', 'строится', 'вот', 'это', 'вот', 'все', 'значит', 'вот', 'сюда', 'сюда', 'будет', 'вот', 'это', 'вы', 'можете', 'вот', 'это', 'вот', 'нам', 'тоже', 'как', 'бы', 'вот', 'ваш', 'специалист', 'вот', 'смотрите', 'вячеслав', 'сейчас', 'со', 'мной', 'я', 'вам', 'вышлю', 'счет', 'мы', 'с', 'вами', 'продлили', 'лицензию', 'далее', 'вы', 'мне', 'дадите', 'номер', 'не', 'знаю', 'чтобы', 'он', 'нам', 'дал', 'вот', 'конкретные', 'рекомендации', 'и', 'например', 'как', 'это', 'сделать', 'это', 'возможно', 'ага', 'либо', 'либо', 'ваш', 'также', 'либо', 'я', 'возьму', 'вот', 'вашего', 'сотрудника', 'ну', 'да', 'да', 'вот', 'и', 'вам', 'с', 'вами', 'свяжется', 'максим', 'он', 'отвечает', 'у', 'нас', 'да', 'вижу', 'и', 'он', 'конкретно', 'вы', 'ему', 'уже', 'расскажете', 'про', 'свой', 'бизнес', 'чем', 'конкретно', 'вы', 'занимаетесь', 'там', 'ваши', 'объемы', 'вот', 'и', 'в', 'принципе', 'просто', 'мы', 'стираем', 'немного', 'ну', 'он', 'там', 'задаст', 'вопросы', 'ага', 'я', 'понял', 'вот', 'и', 'после', 'этого', 'он', 'уже', 'вам', 'даст', 'рекомендации', 'там', 'по', 'виджетам', 'либо', 'по', 'доработкам', 'именно', 'тем', 'которые', 'будут', 'подходить', 'конкретно', 'под', 'ваш', 'бизнес', 'то', 'есть', 'это', 'уже', 'будете', 'обсуждать', 'с', 'ним', 'и', 'если', 'вам', 'там', 'действительно', 'что', 'то', 'необходимо', 'внедрить', 'то', 'он', 'вам', 'это', 'посоветует', 'ну', 'там', 'в', 'пару', 'вещей', 'есть', 'которые', 'подходят', 'вообще', 'под', 'любой', 'бизнес', 'но', 'я', 'просто', 'не', 'знаю', 'чем', 'вы', 'занимаетесь', 'и', 'лучше', 'вам', 'я', 'понял', 'я', 'понял', 'вопрос', 'с', 'ним', 'поэтому', 'сейчас', 'со', 'мной', 'с', 'претензиями', 'закончились', 'ну', 'в', 'принципе', 'я', 'сейчас', 'его', 'ну', 'вы', 'тогда', 'высылайте', 'тогда', 'договор', 'и', 'высылайте', 'тогда', 'счет', 'мы', 'тогда', 'до', 'понедельника', 'ну', 'как', 'бы', 'за', 'пятницу', 'понедельник', 'тогда', 'оплатим', 'не', 'знаешь', 'угу', 'алло', 'ну', 'вот', 'смотрите', 'сегодня', 'уже', 'вряд', 'ли', 'потому', 'что', 'у', 'нас', 'минут', 'до', 'конца', 'рабочего', 'дня', 'осталось', 'а', 'телефон', 'тогда', 'ну', 'я', 'не', 'знаю', 'он', 'когда', 'позвонит', 'ну', 'это', 'понятно', 'да', 'да', 'я', 'думаю', 'что', 'завтра', 'он', 'с', 'вами', 'свяжется', 'вы', 'с', 'ним', 'уже', 'это', 'обсудите', 'а', 'счет', 'я', 'вам', 'сегодня', 'уже', 'отправлю', 'да', 'тогда', 'все', 'высылайте', 'так', 'да', 'и', 'тогда', 'в', 'понедельник', 'еще', 'вы', 'мне', 'позвоните', 'на', 'всякий', 'случай', 'я', 'вам', 'дам', 'ну', 'как', 'бы', 'чтобы', 'все', 'уже', 'конкретно', 'там', 'я', 'все', 'сделал', 'вот', 'а', 'телефон', 'тогда', 'твой', 'тогда', 'да', 'вот', 'вы', 'запишите', 'тогда', 'димин', 'телефон', 'да', 'чтобы', 'так', 'давайте', 'диктуйте', 'угу', 'угу', 'так', 'проверим', 'угу', 'так', 'дмитрий', 'все', 'записала', 'тогда', 'завтра', 'ждите', 'звонка', 'да', 'хорошо', 'по', 'поводу', 'виджетов', 'и', 'с', 'ними', 'уже', 'обсудите', 'конкретно', 'продам', 'все', 'я', 'вам', 'высылаю', 'счет', 'и', 'с', 'вами', 'на', 'связи', 'если', 'будут', 'вопросы', 'можете', 'писать', 'на', 'ватсапе', 'спасибо', 'спасибо', 'да', 'да', 'тогда', 'созвонимся', 'ага', 'спасибо', 'вам', 'давайте', 'ну', 'до', 'свидания', 'хорошего', 'вечера']\n"
          ]
        }
      ]
    },
    {
      "cell_type": "code",
      "source": [
        "#Проверим, какие слова встречаются чаще других\n",
        "from nltk.probability import FreqDist\n",
        "\n",
        "fdist = FreqDist(Vocab)\n",
        "print(fdist)"
      ],
      "metadata": {
        "colab": {
          "base_uri": "https://localhost:8080/"
        },
        "id": "tWiYXGasAxWp",
        "outputId": "2ec766f9-a712-43c7-cc64-94eb1cdfc551"
      },
      "execution_count": 13,
      "outputs": [
        {
          "output_type": "stream",
          "name": "stdout",
          "text": [
            "<FreqDist with 1142 samples and 4634 outcomes>\n"
          ]
        }
      ]
    },
    {
      "cell_type": "code",
      "source": [
        "fdist.most_common(10)"
      ],
      "metadata": {
        "colab": {
          "base_uri": "https://localhost:8080/"
        },
        "id": "iPRjHndiAxdP",
        "outputId": "ef9e73ef-0520-4401-aac4-8c108adcf038"
      },
      "execution_count": 14,
      "outputs": [
        {
          "output_type": "execute_result",
          "data": {
            "text/plain": [
              "[('да', 148),\n",
              " ('вот', 127),\n",
              " ('то', 112),\n",
              " ('и', 108),\n",
              " ('ну', 93),\n",
              " ('а', 87),\n",
              " ('я', 84),\n",
              " ('вы', 81),\n",
              " ('что', 78),\n",
              " ('мы', 74)]"
            ]
          },
          "metadata": {},
          "execution_count": 14
        }
      ]
    },
    {
      "cell_type": "code",
      "source": [
        "#Чаще других встречаются слова \"вот\" \"то\" \"да\" \"ну\" \"а\". Удалим ненужные слова\n",
        "import nltk\n",
        "nltk.download('stopwords')\n",
        "\n",
        "stop_words = set(stopwords.words('russian'))\n",
        "print(stop_words)"
      ],
      "metadata": {
        "colab": {
          "base_uri": "https://localhost:8080/"
        },
        "id": "dM3_lTLEAxgn",
        "outputId": "f79d2a6f-2977-4bca-e661-be637abcb78d"
      },
      "execution_count": 15,
      "outputs": [
        {
          "output_type": "stream",
          "name": "stdout",
          "text": [
            "{'но', 'над', 'ли', 'почти', 'этого', 'они', 'под', 'меня', 'его', 'про', 'всего', 'ж', 'так', 'после', 'в', 'во', 'ведь', 'до', 'чтобы', 'если', 'этот', 'не', 'был', 'потом', 'будто', 'надо', 'за', 'всю', 'их', 'лучше', 'ним', 'со', 'этой', 'чуть', 'более', 'что', 'мне', 'разве', 'на', 'сам', 'нее', 'уже', 'же', 'моя', 'для', 'без', 'когда', 'раз', 'вас', 'еще', 'него', 'чтоб', 'я', 'вы', 'или', 'может', 'было', 'другой', 'а', 'куда', 'теперь', 'впрочем', 'он', 'да', 'ну', 'то', 'у', 'и', 'себя', 'ты', 'нельзя', 'зачем', 'здесь', 'где', 'с', 'по', 'через', 'ней', 'мой', 'чем', 'нас', 'какой', 'вам', 'между', 'ей', 'нет', 'были', 'больше', 'мы', 'конечно', 'бы', 'как', 'всех', 'чего', 'два', 'хоть', 'можно', 'тебя', 'том', 'много', 'эту', 'того', 'там', 'какая', 'такой', 'тот', 'опять', 'нибудь', 'тогда', 'тем', 'есть', 'эти', 'была', 'о', 'тут', 'ее', 'уж', 'будет', 'к', 'ни', 'кто', 'при', 'перед', 'свою', 'ничего', 'тоже', 'три', 'все', 'этом', 'потому', 'никогда', 'только', 'себе', 'совсем', 'об', 'ему', 'сейчас', 'быть', 'им', 'даже', 'всегда', 'от', 'вдруг', 'хорошо', 'один', 'вот', 'из', 'иногда', 'них', 'наконец', 'она'}\n"
          ]
        },
        {
          "output_type": "stream",
          "name": "stderr",
          "text": [
            "[nltk_data] Downloading package stopwords to /root/nltk_data...\n",
            "[nltk_data]   Package stopwords is already up-to-date!\n"
          ]
        }
      ]
    },
    {
      "cell_type": "code",
      "source": [
        "#Словарь без \"стоп-слов\"\n",
        "clean_Vocab = []\n",
        "\n",
        "for w in Vocab:\n",
        "  if w not in stop_words:\n",
        "    clean_Vocab.append(w)"
      ],
      "metadata": {
        "id": "Gi8cLuy_Axj3"
      },
      "execution_count": 16,
      "outputs": []
    },
    {
      "cell_type": "code",
      "source": [
        "fdist = FreqDist(clean_Vocab)\n",
        "fdist.most_common(10)"
      ],
      "metadata": {
        "colab": {
          "base_uri": "https://localhost:8080/"
        },
        "id": "tJke4xOgAxrs",
        "outputId": "37f8f3e3-0920-4a9f-b066-e2746e88a043"
      },
      "execution_count": 17,
      "outputs": [
        {
          "output_type": "execute_result",
          "data": {
            "text/plain": [
              "[('это', 72),\n",
              " ('угу', 49),\n",
              " ('просто', 30),\n",
              " ('например', 24),\n",
              " ('смотрите', 21),\n",
              " ('нам', 19),\n",
              " ('правильно', 17),\n",
              " ('давайте', 16),\n",
              " ('вами', 15),\n",
              " ('бизнес', 14)]"
            ]
          },
          "metadata": {},
          "execution_count": 17
        }
      ]
    },
    {
      "cell_type": "code",
      "source": [
        "#Поиск синонимов\n",
        "import gensim\n",
        "from gensim.models import Word2Vec"
      ],
      "metadata": {
        "id": "a1CFxX4esxVc"
      },
      "execution_count": 18,
      "outputs": []
    },
    {
      "cell_type": "code",
      "source": [
        "model = Word2Vec([clean_Vocab], min_count =3)"
      ],
      "metadata": {
        "colab": {
          "base_uri": "https://localhost:8080/"
        },
        "id": "Pe5uod9Qsxe5",
        "outputId": "c2d331d2-daf1-4f76-a8be-42ccec1d5c8e"
      },
      "execution_count": 19,
      "outputs": [
        {
          "output_type": "stream",
          "name": "stderr",
          "text": [
            "WARNING:gensim.models.base_any2vec:under 10 jobs per worker: consider setting a smaller `batch_words' for smoother alpha decay\n"
          ]
        }
      ]
    },
    {
      "cell_type": "code",
      "source": [
        "model.train([clean_Vocab], total_examples=model.corpus_count, epochs=200, report_delay=1) "
      ],
      "metadata": {
        "colab": {
          "base_uri": "https://localhost:8080/"
        },
        "id": "QHqczf3w1lAF",
        "outputId": "f3f7ef72-cb98-48b1-dfc8-d01e0b58b89e"
      },
      "execution_count": 20,
      "outputs": [
        {
          "output_type": "execute_result",
          "data": {
            "text/plain": [
              "(123759, 414800)"
            ]
          },
          "metadata": {},
          "execution_count": 20
        }
      ]
    },
    {
      "cell_type": "code",
      "source": [
        "#Синонимы \"здравствуйте\"\n",
        "model.most_similar('здравствуйте')"
      ],
      "metadata": {
        "colab": {
          "base_uri": "https://localhost:8080/"
        },
        "id": "WusxhPd1sxpy",
        "outputId": "d9e5b335-280c-4690-a9e3-feda8bcdbe30"
      },
      "execution_count": 21,
      "outputs": [
        {
          "output_type": "stream",
          "name": "stderr",
          "text": [
            "/usr/local/lib/python3.7/dist-packages/ipykernel_launcher.py:2: DeprecationWarning: Call to deprecated `most_similar` (Method will be removed in 4.0.0, use self.wv.most_similar() instead).\n",
            "  \n"
          ]
        },
        {
          "output_type": "execute_result",
          "data": {
            "text/plain": [
              "[('зовут', 0.9827433824539185),\n",
              " ('ангелина', 0.9585208892822266),\n",
              " ('день', 0.9443455934524536),\n",
              " ('диджитал', 0.9185293912887573),\n",
              " ('добрый', 0.9154111742973328),\n",
              " ('алло', 0.8987537622451782),\n",
              " ('свидания', 0.8947328925132751),\n",
              " ('удобно', 0.8937771320343018),\n",
              " ('дмитрий', 0.8899378776550293),\n",
              " ('хорошего', 0.8867058753967285)]"
            ]
          },
          "metadata": {},
          "execution_count": 21
        }
      ]
    },
    {
      "cell_type": "code",
      "source": [
        "#Синонимы \"до свидания\"\n",
        "model.most_similar('свидания')"
      ],
      "metadata": {
        "colab": {
          "base_uri": "https://localhost:8080/"
        },
        "id": "cauRnqKT0w8N",
        "outputId": "f3b29987-cacd-4262-89a0-0f66cfc48185"
      },
      "execution_count": 22,
      "outputs": [
        {
          "output_type": "stream",
          "name": "stderr",
          "text": [
            "/usr/local/lib/python3.7/dist-packages/ipykernel_launcher.py:2: DeprecationWarning: Call to deprecated `most_similar` (Method will be removed in 4.0.0, use self.wv.most_similar() instead).\n",
            "  \n"
          ]
        },
        {
          "output_type": "execute_result",
          "data": {
            "text/plain": [
              "[('алло', 0.9440104961395264),\n",
              " ('дмитрий', 0.9384851455688477),\n",
              " ('добрый', 0.9208201766014099),\n",
              " ('хорошего', 0.9136171340942383),\n",
              " ('день', 0.9020993709564209),\n",
              " ('здравствуйте', 0.8947328925132751),\n",
              " ('понедельник', 0.8560622334480286),\n",
              " ('зовут', 0.8553675413131714),\n",
              " ('удобно', 0.8548212051391602),\n",
              " ('связь', 0.8392418622970581)]"
            ]
          },
          "metadata": {},
          "execution_count": 22
        }
      ]
    },
    {
      "cell_type": "markdown",
      "source": [
        "Реплики с приветствием – где менеджер поздоровался"
      ],
      "metadata": {
        "id": "DvB3G6dAHmG4"
      }
    },
    {
      "cell_type": "code",
      "source": [
        "#Новый датасет для извлечения информации о менеджере\n",
        "df_manager = df.loc[(df['role'] == 'manager')]"
      ],
      "metadata": {
        "id": "1q_M-A5J0xNr"
      },
      "execution_count": 23,
      "outputs": []
    },
    {
      "cell_type": "code",
      "source": [
        "df_manager.head()"
      ],
      "metadata": {
        "colab": {
          "base_uri": "https://localhost:8080/",
          "height": 248
        },
        "id": "G0Ay3-xeXzQh",
        "outputId": "11d66eff-0bd5-452d-8fd6-d308ec29f32f"
      },
      "execution_count": 24,
      "outputs": [
        {
          "output_type": "execute_result",
          "data": {
            "text/plain": [
              "   dlg_id     role                                               text  \\\n",
              "0       0  manager                                               алло   \n",
              "2       0  manager                                        добрый день   \n",
              "4       0  manager                                                ага   \n",
              "6       0  manager  да мы работаем с компанией которая нам подлива...   \n",
              "7       0  manager  как как бы уже до этого момента работаем все у...   \n",
              "\n",
              "                                      tokenized_text  \n",
              "0                                             [алло]  \n",
              "2                                     [добрый, день]  \n",
              "4                                              [ага]  \n",
              "6  [да, мы, работаем, с, компанией, которая, нам,...  \n",
              "7  [как, как, бы, уже, до, этого, момента, работа...  "
            ],
            "text/html": [
              "\n",
              "  <div id=\"df-24a1683b-6c36-4683-a65c-d8b835d22769\">\n",
              "    <div class=\"colab-df-container\">\n",
              "      <div>\n",
              "<style scoped>\n",
              "    .dataframe tbody tr th:only-of-type {\n",
              "        vertical-align: middle;\n",
              "    }\n",
              "\n",
              "    .dataframe tbody tr th {\n",
              "        vertical-align: top;\n",
              "    }\n",
              "\n",
              "    .dataframe thead th {\n",
              "        text-align: right;\n",
              "    }\n",
              "</style>\n",
              "<table border=\"1\" class=\"dataframe\">\n",
              "  <thead>\n",
              "    <tr style=\"text-align: right;\">\n",
              "      <th></th>\n",
              "      <th>dlg_id</th>\n",
              "      <th>role</th>\n",
              "      <th>text</th>\n",
              "      <th>tokenized_text</th>\n",
              "    </tr>\n",
              "  </thead>\n",
              "  <tbody>\n",
              "    <tr>\n",
              "      <th>0</th>\n",
              "      <td>0</td>\n",
              "      <td>manager</td>\n",
              "      <td>алло</td>\n",
              "      <td>[алло]</td>\n",
              "    </tr>\n",
              "    <tr>\n",
              "      <th>2</th>\n",
              "      <td>0</td>\n",
              "      <td>manager</td>\n",
              "      <td>добрый день</td>\n",
              "      <td>[добрый, день]</td>\n",
              "    </tr>\n",
              "    <tr>\n",
              "      <th>4</th>\n",
              "      <td>0</td>\n",
              "      <td>manager</td>\n",
              "      <td>ага</td>\n",
              "      <td>[ага]</td>\n",
              "    </tr>\n",
              "    <tr>\n",
              "      <th>6</th>\n",
              "      <td>0</td>\n",
              "      <td>manager</td>\n",
              "      <td>да мы работаем с компанией которая нам подлива...</td>\n",
              "      <td>[да, мы, работаем, с, компанией, которая, нам,...</td>\n",
              "    </tr>\n",
              "    <tr>\n",
              "      <th>7</th>\n",
              "      <td>0</td>\n",
              "      <td>manager</td>\n",
              "      <td>как как бы уже до этого момента работаем все у...</td>\n",
              "      <td>[как, как, бы, уже, до, этого, момента, работа...</td>\n",
              "    </tr>\n",
              "  </tbody>\n",
              "</table>\n",
              "</div>\n",
              "      <button class=\"colab-df-convert\" onclick=\"convertToInteractive('df-24a1683b-6c36-4683-a65c-d8b835d22769')\"\n",
              "              title=\"Convert this dataframe to an interactive table.\"\n",
              "              style=\"display:none;\">\n",
              "        \n",
              "  <svg xmlns=\"http://www.w3.org/2000/svg\" height=\"24px\"viewBox=\"0 0 24 24\"\n",
              "       width=\"24px\">\n",
              "    <path d=\"M0 0h24v24H0V0z\" fill=\"none\"/>\n",
              "    <path d=\"M18.56 5.44l.94 2.06.94-2.06 2.06-.94-2.06-.94-.94-2.06-.94 2.06-2.06.94zm-11 1L8.5 8.5l.94-2.06 2.06-.94-2.06-.94L8.5 2.5l-.94 2.06-2.06.94zm10 10l.94 2.06.94-2.06 2.06-.94-2.06-.94-.94-2.06-.94 2.06-2.06.94z\"/><path d=\"M17.41 7.96l-1.37-1.37c-.4-.4-.92-.59-1.43-.59-.52 0-1.04.2-1.43.59L10.3 9.45l-7.72 7.72c-.78.78-.78 2.05 0 2.83L4 21.41c.39.39.9.59 1.41.59.51 0 1.02-.2 1.41-.59l7.78-7.78 2.81-2.81c.8-.78.8-2.07 0-2.86zM5.41 20L4 18.59l7.72-7.72 1.47 1.35L5.41 20z\"/>\n",
              "  </svg>\n",
              "      </button>\n",
              "      \n",
              "  <style>\n",
              "    .colab-df-container {\n",
              "      display:flex;\n",
              "      flex-wrap:wrap;\n",
              "      gap: 12px;\n",
              "    }\n",
              "\n",
              "    .colab-df-convert {\n",
              "      background-color: #E8F0FE;\n",
              "      border: none;\n",
              "      border-radius: 50%;\n",
              "      cursor: pointer;\n",
              "      display: none;\n",
              "      fill: #1967D2;\n",
              "      height: 32px;\n",
              "      padding: 0 0 0 0;\n",
              "      width: 32px;\n",
              "    }\n",
              "\n",
              "    .colab-df-convert:hover {\n",
              "      background-color: #E2EBFA;\n",
              "      box-shadow: 0px 1px 2px rgba(60, 64, 67, 0.3), 0px 1px 3px 1px rgba(60, 64, 67, 0.15);\n",
              "      fill: #174EA6;\n",
              "    }\n",
              "\n",
              "    [theme=dark] .colab-df-convert {\n",
              "      background-color: #3B4455;\n",
              "      fill: #D2E3FC;\n",
              "    }\n",
              "\n",
              "    [theme=dark] .colab-df-convert:hover {\n",
              "      background-color: #434B5C;\n",
              "      box-shadow: 0px 1px 3px 1px rgba(0, 0, 0, 0.15);\n",
              "      filter: drop-shadow(0px 1px 2px rgba(0, 0, 0, 0.3));\n",
              "      fill: #FFFFFF;\n",
              "    }\n",
              "  </style>\n",
              "\n",
              "      <script>\n",
              "        const buttonEl =\n",
              "          document.querySelector('#df-24a1683b-6c36-4683-a65c-d8b835d22769 button.colab-df-convert');\n",
              "        buttonEl.style.display =\n",
              "          google.colab.kernel.accessAllowed ? 'block' : 'none';\n",
              "\n",
              "        async function convertToInteractive(key) {\n",
              "          const element = document.querySelector('#df-24a1683b-6c36-4683-a65c-d8b835d22769');\n",
              "          const dataTable =\n",
              "            await google.colab.kernel.invokeFunction('convertToInteractive',\n",
              "                                                     [key], {});\n",
              "          if (!dataTable) return;\n",
              "\n",
              "          const docLinkHtml = 'Like what you see? Visit the ' +\n",
              "            '<a target=\"_blank\" href=https://colab.research.google.com/notebooks/data_table.ipynb>data table notebook</a>'\n",
              "            + ' to learn more about interactive tables.';\n",
              "          element.innerHTML = '';\n",
              "          dataTable['output_type'] = 'display_data';\n",
              "          await google.colab.output.renderOutput(dataTable, element);\n",
              "          const docLink = document.createElement('div');\n",
              "          docLink.innerHTML = docLinkHtml;\n",
              "          element.appendChild(docLink);\n",
              "        }\n",
              "      </script>\n",
              "    </div>\n",
              "  </div>\n",
              "  "
            ]
          },
          "metadata": {},
          "execution_count": 24
        }
      ]
    },
    {
      "cell_type": "code",
      "source": [
        "import re as re"
      ],
      "metadata": {
        "id": "3X9rNeigZDN7"
      },
      "execution_count": 25,
      "outputs": []
    },
    {
      "cell_type": "code",
      "source": [
        "def get_info(str, word):\n",
        "    result = re.findall(r'([^.]*'+word+'[^.]*)', str)\n",
        "    return result"
      ],
      "metadata": {
        "id": "QbCR0_v9iq2F"
      },
      "execution_count": 26,
      "outputs": []
    },
    {
      "cell_type": "code",
      "source": [
        "df_manager['greetings']=df_manager['text'].apply(lambda x : get_info(x,'здравствуйте'))"
      ],
      "metadata": {
        "colab": {
          "base_uri": "https://localhost:8080/"
        },
        "id": "bjOb7WfJi6R6",
        "outputId": "12b2682f-cce4-421e-9b19-9a383dcf4ba3"
      },
      "execution_count": 27,
      "outputs": [
        {
          "output_type": "stream",
          "name": "stderr",
          "text": [
            "/usr/local/lib/python3.7/dist-packages/ipykernel_launcher.py:1: SettingWithCopyWarning: \n",
            "A value is trying to be set on a copy of a slice from a DataFrame.\n",
            "Try using .loc[row_indexer,col_indexer] = value instead\n",
            "\n",
            "See the caveats in the documentation: https://pandas.pydata.org/pandas-docs/stable/user_guide/indexing.html#returning-a-view-versus-a-copy\n",
            "  \"\"\"Entry point for launching an IPython kernel.\n"
          ]
        }
      ]
    },
    {
      "cell_type": "markdown",
      "source": [
        "Реплики, где менеджер представил себя"
      ],
      "metadata": {
        "id": "Ia0I5LCDHpmU"
      }
    },
    {
      "cell_type": "code",
      "source": [
        "df_manager['introduction']=df_manager['text'].apply(lambda x : get_info(x,'зовут'))"
      ],
      "metadata": {
        "colab": {
          "base_uri": "https://localhost:8080/"
        },
        "id": "G5P2D9n5NK4s",
        "outputId": "7c552b15-1800-4d1b-d306-efa31c2f6cd9"
      },
      "execution_count": 28,
      "outputs": [
        {
          "output_type": "stream",
          "name": "stderr",
          "text": [
            "/usr/local/lib/python3.7/dist-packages/ipykernel_launcher.py:1: SettingWithCopyWarning: \n",
            "A value is trying to be set on a copy of a slice from a DataFrame.\n",
            "Try using .loc[row_indexer,col_indexer] = value instead\n",
            "\n",
            "See the caveats in the documentation: https://pandas.pydata.org/pandas-docs/stable/user_guide/indexing.html#returning-a-view-versus-a-copy\n",
            "  \"\"\"Entry point for launching an IPython kernel.\n"
          ]
        }
      ]
    },
    {
      "cell_type": "markdown",
      "source": [
        "Реплики, где менеджер попрощался"
      ],
      "metadata": {
        "id": "jNsoiP0VVwe5"
      }
    },
    {
      "cell_type": "code",
      "source": [
        "df_manager['bye']=df_manager['text'].apply(lambda x : get_info(x,'свидания'))"
      ],
      "metadata": {
        "colab": {
          "base_uri": "https://localhost:8080/"
        },
        "id": "iVJydQJ0VuZ2",
        "outputId": "f8e96833-570c-4a64-c528-e21204ce8963"
      },
      "execution_count": 29,
      "outputs": [
        {
          "output_type": "stream",
          "name": "stderr",
          "text": [
            "/usr/local/lib/python3.7/dist-packages/ipykernel_launcher.py:1: SettingWithCopyWarning: \n",
            "A value is trying to be set on a copy of a slice from a DataFrame.\n",
            "Try using .loc[row_indexer,col_indexer] = value instead\n",
            "\n",
            "See the caveats in the documentation: https://pandas.pydata.org/pandas-docs/stable/user_guide/indexing.html#returning-a-view-versus-a-copy\n",
            "  \"\"\"Entry point for launching an IPython kernel.\n"
          ]
        }
      ]
    },
    {
      "cell_type": "markdown",
      "source": [
        "Имя менеджера и организации. К сожалению, я не смогла выполнить это задание."
      ],
      "metadata": {
        "id": "8jy8C9MBHtA6"
      }
    },
    {
      "cell_type": "code",
      "source": [
        "pip install spacy-stanza"
      ],
      "metadata": {
        "colab": {
          "base_uri": "https://localhost:8080/"
        },
        "id": "m4uovW95n8Lj",
        "outputId": "bcde7f52-6cbb-4040-a05e-11202226a394"
      },
      "execution_count": 30,
      "outputs": [
        {
          "output_type": "stream",
          "name": "stdout",
          "text": [
            "Looking in indexes: https://pypi.org/simple, https://us-python.pkg.dev/colab-wheels/public/simple/\n",
            "Requirement already satisfied: spacy-stanza in /usr/local/lib/python3.7/dist-packages (1.0.2)\n",
            "Requirement already satisfied: spacy<4.0.0,>=3.0.0 in /usr/local/lib/python3.7/dist-packages (from spacy-stanza) (3.4.1)\n",
            "Requirement already satisfied: stanza<1.5.0,>=1.2.0 in /usr/local/lib/python3.7/dist-packages (from spacy-stanza) (1.4.0)\n",
            "Requirement already satisfied: murmurhash<1.1.0,>=0.28.0 in /usr/local/lib/python3.7/dist-packages (from spacy<4.0.0,>=3.0.0->spacy-stanza) (1.0.8)\n",
            "Requirement already satisfied: wasabi<1.1.0,>=0.9.1 in /usr/local/lib/python3.7/dist-packages (from spacy<4.0.0,>=3.0.0->spacy-stanza) (0.10.1)\n",
            "Requirement already satisfied: tqdm<5.0.0,>=4.38.0 in /usr/local/lib/python3.7/dist-packages (from spacy<4.0.0,>=3.0.0->spacy-stanza) (4.64.0)\n",
            "Requirement already satisfied: langcodes<4.0.0,>=3.2.0 in /usr/local/lib/python3.7/dist-packages (from spacy<4.0.0,>=3.0.0->spacy-stanza) (3.3.0)\n",
            "Requirement already satisfied: spacy-loggers<2.0.0,>=1.0.0 in /usr/local/lib/python3.7/dist-packages (from spacy<4.0.0,>=3.0.0->spacy-stanza) (1.0.3)\n",
            "Requirement already satisfied: numpy>=1.15.0 in /usr/local/lib/python3.7/dist-packages (from spacy<4.0.0,>=3.0.0->spacy-stanza) (1.21.6)\n",
            "Requirement already satisfied: setuptools in /usr/local/lib/python3.7/dist-packages (from spacy<4.0.0,>=3.0.0->spacy-stanza) (57.4.0)\n",
            "Requirement already satisfied: jinja2 in /usr/local/lib/python3.7/dist-packages (from spacy<4.0.0,>=3.0.0->spacy-stanza) (2.11.3)\n",
            "Requirement already satisfied: preshed<3.1.0,>=3.0.2 in /usr/local/lib/python3.7/dist-packages (from spacy<4.0.0,>=3.0.0->spacy-stanza) (3.0.7)\n",
            "Requirement already satisfied: pydantic!=1.8,!=1.8.1,<1.10.0,>=1.7.4 in /usr/local/lib/python3.7/dist-packages (from spacy<4.0.0,>=3.0.0->spacy-stanza) (1.9.2)\n",
            "Requirement already satisfied: thinc<8.2.0,>=8.1.0 in /usr/local/lib/python3.7/dist-packages (from spacy<4.0.0,>=3.0.0->spacy-stanza) (8.1.0)\n",
            "Requirement already satisfied: catalogue<2.1.0,>=2.0.6 in /usr/local/lib/python3.7/dist-packages (from spacy<4.0.0,>=3.0.0->spacy-stanza) (2.0.8)\n",
            "Requirement already satisfied: spacy-legacy<3.1.0,>=3.0.9 in /usr/local/lib/python3.7/dist-packages (from spacy<4.0.0,>=3.0.0->spacy-stanza) (3.0.10)\n",
            "Requirement already satisfied: packaging>=20.0 in /usr/local/lib/python3.7/dist-packages (from spacy<4.0.0,>=3.0.0->spacy-stanza) (21.3)\n",
            "Requirement already satisfied: typing-extensions<4.2.0,>=3.7.4 in /usr/local/lib/python3.7/dist-packages (from spacy<4.0.0,>=3.0.0->spacy-stanza) (4.1.1)\n",
            "Requirement already satisfied: pathy>=0.3.5 in /usr/local/lib/python3.7/dist-packages (from spacy<4.0.0,>=3.0.0->spacy-stanza) (0.6.2)\n",
            "Requirement already satisfied: srsly<3.0.0,>=2.4.3 in /usr/local/lib/python3.7/dist-packages (from spacy<4.0.0,>=3.0.0->spacy-stanza) (2.4.4)\n",
            "Requirement already satisfied: typer<0.5.0,>=0.3.0 in /usr/local/lib/python3.7/dist-packages (from spacy<4.0.0,>=3.0.0->spacy-stanza) (0.4.2)\n",
            "Requirement already satisfied: requests<3.0.0,>=2.13.0 in /usr/local/lib/python3.7/dist-packages (from spacy<4.0.0,>=3.0.0->spacy-stanza) (2.23.0)\n",
            "Requirement already satisfied: cymem<2.1.0,>=2.0.2 in /usr/local/lib/python3.7/dist-packages (from spacy<4.0.0,>=3.0.0->spacy-stanza) (2.0.6)\n",
            "Requirement already satisfied: zipp>=0.5 in /usr/local/lib/python3.7/dist-packages (from catalogue<2.1.0,>=2.0.6->spacy<4.0.0,>=3.0.0->spacy-stanza) (3.8.1)\n",
            "Requirement already satisfied: pyparsing!=3.0.5,>=2.0.2 in /usr/local/lib/python3.7/dist-packages (from packaging>=20.0->spacy<4.0.0,>=3.0.0->spacy-stanza) (3.0.9)\n",
            "Requirement already satisfied: smart-open<6.0.0,>=5.2.1 in /usr/local/lib/python3.7/dist-packages (from pathy>=0.3.5->spacy<4.0.0,>=3.0.0->spacy-stanza) (5.2.1)\n",
            "Requirement already satisfied: certifi>=2017.4.17 in /usr/local/lib/python3.7/dist-packages (from requests<3.0.0,>=2.13.0->spacy<4.0.0,>=3.0.0->spacy-stanza) (2022.6.15)\n",
            "Requirement already satisfied: urllib3!=1.25.0,!=1.25.1,<1.26,>=1.21.1 in /usr/local/lib/python3.7/dist-packages (from requests<3.0.0,>=2.13.0->spacy<4.0.0,>=3.0.0->spacy-stanza) (1.24.3)\n",
            "Requirement already satisfied: idna<3,>=2.5 in /usr/local/lib/python3.7/dist-packages (from requests<3.0.0,>=2.13.0->spacy<4.0.0,>=3.0.0->spacy-stanza) (2.10)\n",
            "Requirement already satisfied: chardet<4,>=3.0.2 in /usr/local/lib/python3.7/dist-packages (from requests<3.0.0,>=2.13.0->spacy<4.0.0,>=3.0.0->spacy-stanza) (3.0.4)\n",
            "Requirement already satisfied: torch>=1.3.0 in /usr/local/lib/python3.7/dist-packages (from stanza<1.5.0,>=1.2.0->spacy-stanza) (1.12.1+cu113)\n",
            "Requirement already satisfied: transformers in /usr/local/lib/python3.7/dist-packages (from stanza<1.5.0,>=1.2.0->spacy-stanza) (4.21.2)\n",
            "Requirement already satisfied: six in /usr/local/lib/python3.7/dist-packages (from stanza<1.5.0,>=1.2.0->spacy-stanza) (1.15.0)\n",
            "Requirement already satisfied: protobuf in /usr/local/lib/python3.7/dist-packages (from stanza<1.5.0,>=1.2.0->spacy-stanza) (3.17.3)\n",
            "Requirement already satisfied: emoji in /usr/local/lib/python3.7/dist-packages (from stanza<1.5.0,>=1.2.0->spacy-stanza) (2.0.0)\n",
            "Requirement already satisfied: blis<0.8.0,>=0.7.8 in /usr/local/lib/python3.7/dist-packages (from thinc<8.2.0,>=8.1.0->spacy<4.0.0,>=3.0.0->spacy-stanza) (0.7.8)\n",
            "Requirement already satisfied: click<9.0.0,>=7.1.1 in /usr/local/lib/python3.7/dist-packages (from typer<0.5.0,>=0.3.0->spacy<4.0.0,>=3.0.0->spacy-stanza) (7.1.2)\n",
            "Requirement already satisfied: MarkupSafe>=0.23 in /usr/local/lib/python3.7/dist-packages (from jinja2->spacy<4.0.0,>=3.0.0->spacy-stanza) (2.0.1)\n",
            "Requirement already satisfied: importlib-metadata in /usr/local/lib/python3.7/dist-packages (from transformers->stanza<1.5.0,>=1.2.0->spacy-stanza) (4.12.0)\n",
            "Requirement already satisfied: regex!=2019.12.17 in /usr/local/lib/python3.7/dist-packages (from transformers->stanza<1.5.0,>=1.2.0->spacy-stanza) (2022.6.2)\n",
            "Requirement already satisfied: pyyaml>=5.1 in /usr/local/lib/python3.7/dist-packages (from transformers->stanza<1.5.0,>=1.2.0->spacy-stanza) (6.0)\n",
            "Requirement already satisfied: filelock in /usr/local/lib/python3.7/dist-packages (from transformers->stanza<1.5.0,>=1.2.0->spacy-stanza) (3.8.0)\n",
            "Requirement already satisfied: tokenizers!=0.11.3,<0.13,>=0.11.1 in /usr/local/lib/python3.7/dist-packages (from transformers->stanza<1.5.0,>=1.2.0->spacy-stanza) (0.12.1)\n",
            "Requirement already satisfied: huggingface-hub<1.0,>=0.1.0 in /usr/local/lib/python3.7/dist-packages (from transformers->stanza<1.5.0,>=1.2.0->spacy-stanza) (0.9.1)\n"
          ]
        }
      ]
    },
    {
      "cell_type": "code",
      "source": [
        "import stanza\n",
        "nlp = stanza.Pipeline('ru')\n",
        "\n",
        "docs = []\n",
        "\n",
        "for sentence in df.text:\n",
        "  doc = nlp(sentence)\n",
        "  docs.append(docs)\n",
        "\n",
        "for ent in docs.sentences[0].entities:\n",
        "    if (ent.type in ('PER', 'ORG')):\n",
        "        print (ent.text,' ',ent.type)"
      ],
      "metadata": {
        "colab": {
          "base_uri": "https://localhost:8080/",
          "height": 383,
          "referenced_widgets": [
            "bceb639222e2491ea15730c33f4e508b",
            "2c6e281d624b44b28ff3ddbdc140c8ec",
            "ca7c4f6a657b46e4912247d601aa0060",
            "a228b95f77aa416484ed0b6e0d3b8769",
            "c0978aa1b8624f009a9ee00612f2d9b3",
            "f4901856b32244fa991117077d1aba82",
            "e33bb16f11a842e795c0ff987097905a",
            "f56a2a8753d0433f9757fb7f9b1d669d",
            "a4563cacfb59401ebe602cb045944c53",
            "07edc8361cce4a3a83ea0a2a15ddd5c7",
            "6888fc5a079849739c7b3fa7c0f01051"
          ]
        },
        "id": "s0qLzKrwcH3U",
        "outputId": "f741810c-2f9d-48bf-ff0a-e592c8971734"
      },
      "execution_count": null,
      "outputs": [
        {
          "output_type": "display_data",
          "data": {
            "text/plain": [
              "Downloading https://raw.githubusercontent.com/stanfordnlp/stanza-resources/main/resources_1.4.0.json:   0%|   …"
            ],
            "application/vnd.jupyter.widget-view+json": {
              "version_major": 2,
              "version_minor": 0,
              "model_id": "bceb639222e2491ea15730c33f4e508b"
            }
          },
          "metadata": {}
        },
        {
          "output_type": "stream",
          "name": "stderr",
          "text": [
            "INFO:stanza:Loading these models for language: ru (Russian):\n",
            "=========================\n",
            "| Processor | Package   |\n",
            "-------------------------\n",
            "| tokenize  | syntagrus |\n",
            "| pos       | syntagrus |\n",
            "| lemma     | syntagrus |\n",
            "| depparse  | syntagrus |\n",
            "| ner       | wikiner   |\n",
            "=========================\n",
            "\n",
            "INFO:stanza:Use device: cpu\n",
            "INFO:stanza:Loading: tokenize\n",
            "INFO:stanza:Loading: pos\n",
            "INFO:stanza:Loading: lemma\n",
            "INFO:stanza:Loading: depparse\n",
            "INFO:stanza:Loading: ner\n",
            "INFO:stanza:Done loading processors!\n"
          ]
        }
      ]
    }
  ]
}